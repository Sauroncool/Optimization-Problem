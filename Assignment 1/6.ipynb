{
 "cells": [
  {
   "cell_type": "markdown",
   "metadata": {},
   "source": [
    "# It is a Non Linear Problem "
   ]
  },
  {
   "cell_type": "code",
   "execution_count": 190,
   "metadata": {},
   "outputs": [],
   "source": [
    "using JuMP\n",
    "import Ipopt"
   ]
  },
  {
   "cell_type": "code",
   "execution_count": 191,
   "metadata": {},
   "outputs": [
    {
     "data": {
      "text/plain": [
       "A JuMP Model\n",
       "Feasibility problem with:\n",
       "Variables: 0\n",
       "Model mode: AUTOMATIC\n",
       "CachingOptimizer state: EMPTY_OPTIMIZER\n",
       "Solver name: Ipopt"
      ]
     },
     "metadata": {},
     "output_type": "display_data"
    }
   ],
   "source": [
    "model = Model(Ipopt.Optimizer) # Using Non Linear solver"
   ]
  },
  {
   "cell_type": "code",
   "execution_count": 192,
   "metadata": {},
   "outputs": [
    {
     "data": {
      "text/latex": [
       "$$ l $$"
      ],
      "text/plain": [
       "l"
      ]
     },
     "metadata": {},
     "output_type": "display_data"
    }
   ],
   "source": [
    "@variable(model, l, lower_bound = 0)"
   ]
  },
  {
   "cell_type": "code",
   "execution_count": 193,
   "metadata": {},
   "outputs": [
    {
     "data": {
      "text/latex": [
       "$$ b $$"
      ],
      "text/plain": [
       "b"
      ]
     },
     "metadata": {},
     "output_type": "display_data"
    }
   ],
   "source": [
    "@variable(model, b, lower_bound = 0)"
   ]
  },
  {
   "cell_type": "code",
   "execution_count": 194,
   "metadata": {},
   "outputs": [
    {
     "data": {
      "text/latex": [
       "$$ h $$"
      ],
      "text/plain": [
       "h"
      ]
     },
     "metadata": {},
     "output_type": "display_data"
    }
   ],
   "source": [
    "@variable(model, h, lower_bound = 0)"
   ]
  },
  {
   "cell_type": "code",
   "execution_count": 195,
   "metadata": {},
   "outputs": [
    {
     "data": {
      "text/latex": [
       "$$ 4 h^2 $$"
      ],
      "text/plain": [
       "4 h²"
      ]
     },
     "metadata": {},
     "output_type": "display_data"
    }
   ],
   "source": [
    "corner_waste_cost = 4 * h^2"
   ]
  },
  {
   "cell_type": "code",
   "execution_count": 196,
   "metadata": {},
   "outputs": [
    {
     "data": {
      "text/latex": [
       "$$ 2 h $$"
      ],
      "text/plain": [
       "2 h"
      ]
     },
     "metadata": {},
     "output_type": "display_data"
    }
   ],
   "source": [
    "welding_cost = 2 * h"
   ]
  },
  {
   "cell_type": "code",
   "execution_count": 197,
   "metadata": {},
   "outputs": [
    {
     "data": {
      "text/latex": [
       "$$ l + 2 h = 22 $$"
      ],
      "text/plain": [
       "l + 2 h == 22"
      ]
     },
     "metadata": {},
     "output_type": "display_data"
    }
   ],
   "source": [
    "@constraint(model, l + 2 * h == 22)\n"
   ]
  },
  {
   "cell_type": "code",
   "execution_count": 198,
   "metadata": {},
   "outputs": [
    {
     "data": {
      "text/latex": [
       "$$ b + 2 h = 17 $$"
      ],
      "text/plain": [
       "b + 2 h == 17"
      ]
     },
     "metadata": {},
     "output_type": "display_data"
    }
   ],
   "source": [
    "@constraint(model, b + 2 * h == 17)"
   ]
  },
  {
   "cell_type": "code",
   "execution_count": 199,
   "metadata": {},
   "outputs": [
    {
     "data": {
      "text/latex": [
       "subexpression[1]: (l * b * h - h * h * 4.0) - 2.0 * h"
      ],
      "text/plain": [
       "subexpression[1]: (l * b * h - h * h * 4.0) - 2.0 * h"
      ]
     },
     "metadata": {},
     "output_type": "display_data"
    }
   ],
   "source": [
    "total_profit = @NLexpression(model, 8* l * b * h - corner_waste_cost - welding_cost)"
   ]
  },
  {
   "cell_type": "code",
   "execution_count": 200,
   "metadata": {},
   "outputs": [],
   "source": [
    "@NLobjective(model, Max, total_profit)"
   ]
  },
  {
   "cell_type": "code",
   "execution_count": 201,
   "metadata": {},
   "outputs": [
    {
     "name": "stdout",
     "output_type": "stream",
     "text": [
      "model = A JuMP Model\n",
      "Maximization problem with:\n",
      "Variables: 3\n",
      "Objective function type: Nonlinear\n",
      "`AffExpr`-in-`MathOptInterface.EqualTo{Float64}`: 2 constraints\n",
      "`VariableRef`-in-`MathOptInterface.GreaterThan{Float64}`: 3 constraints\n",
      "Model mode: AUTOMATIC\n",
      "CachingOptimizer state: EMPTY_OPTIMIZER\n",
      "Solver name: Ipopt\n",
      "Names registered in the model: b, h, l\n"
     ]
    },
    {
     "data": {
      "text/plain": [
       "A JuMP Model\n",
       "Maximization problem with:\n",
       "Variables: 3\n",
       "Objective function type: Nonlinear\n",
       "`AffExpr`-in-`MathOptInterface.EqualTo{Float64}`: 2 constraints\n",
       "`VariableRef`-in-`MathOptInterface.GreaterThan{Float64}`: 3 constraints\n",
       "Model mode: AUTOMATIC\n",
       "CachingOptimizer state: EMPTY_OPTIMIZER\n",
       "Solver name: Ipopt\n",
       "Names registered in the model: b, h, l"
      ]
     },
     "metadata": {},
     "output_type": "display_data"
    }
   ],
   "source": [
    "@show model"
   ]
  },
  {
   "cell_type": "code",
   "execution_count": 202,
   "metadata": {},
   "outputs": [
    {
     "name": "stdout",
     "output_type": "stream",
     "text": [
      "This is Ipopt version 3.14.13, running with linear solver MUMPS 5.6.1.\n",
      "\n",
      "Number of nonzeros in equality constraint Jacobian...:        4\n",
      "Number of nonzeros in inequality constraint Jacobian.:        0\n",
      "Number of nonzeros in Lagrangian Hessian.............:        6\n",
      "\n",
      "Total number of variables............................:        3\n",
      "                     variables with only lower bounds:        3\n",
      "                variables with lower and upper bounds:        0\n",
      "                     variables with only upper bounds:        0\n",
      "Total number of equality constraints.................:        2\n",
      "Total number of inequality constraints...............:        0\n",
      "        inequality constraints with only lower bounds:        0\n",
      "   inequality constraints with lower and upper bounds:        0\n",
      "        inequality constraints with only upper bounds:        0\n",
      "\n",
      "iter    objective    inf_pr   inf_du lg(mu)  ||d||  lg(rg) alpha_du alpha_pr  ls\n",
      "   0 -2.0398979e-02 2.20e+01 1.13e+00  -1.0 0.00e+00    -  0.00e+00 0.00e+00   0\n",
      "   1 -3.8346562e+00 2.00e+01 7.28e+01  -1.0 8.54e+00    -  1.17e-03 8.79e-02h  1\n",
      "   2 -2.9808580e+02 0.00e+00 7.35e+01  -1.0 7.69e+00    -  2.62e-02 1.00e+00h  1\n",
      "   3 -2.6848795e+02 0.00e+00 3.68e+01  -1.0 3.69e-01   2.0 9.81e-01 1.00e+00f  1\n",
      "   4 -1.6488330e+02 0.00e+00 4.15e+01  -1.0 1.20e+00   1.5 2.98e-01 1.00e+00f  1\n",
      "   5  2.4514992e+02 0.00e+00 3.99e+01  -1.0 4.50e+00   1.0 1.00e+00 1.00e+00f  1\n",
      "   6  4.8593434e+02 0.00e+00 2.08e+01  -1.0 9.64e+00    -  4.72e-01 5.00e-01f  2\n",
      "   7  4.8677370e+02 3.55e-15 7.39e-02  -1.0 2.72e-01    -  1.00e+00 1.00e+00f  1\n",
      "   8  4.8677395e+02 0.00e+00 2.10e-05  -2.5 4.58e-03    -  1.00e+00 1.00e+00f  1\n",
      "   9  4.8677395e+02 0.00e+00 1.50e-09  -3.8 5.70e-07    -  1.00e+00 1.00e+00f  1\n",
      "iter    objective    inf_pr   inf_du lg(mu)  ||d||  lg(rg) alpha_du alpha_pr  ls\n",
      "  10  4.8677395e+02 0.00e+00 1.85e-11  -5.7 1.49e-07    -  1.00e+00 1.00e+00f  1\n",
      "  11  4.8677395e+02 0.00e+00 4.19e-14  -8.6 1.84e-09    -  1.00e+00 1.00e+00f  1\n",
      "\n",
      "Number of Iterations....: 11\n",
      "\n",
      "                                   (scaled)                 (unscaled)\n",
      "Objective...............:  -4.8677395133797489e+02    4.8677395133797489e+02\n",
      "Dual infeasibility......:   4.1933752435000557e-14    4.1933752435000557e-14\n",
      "Constraint violation....:   0.0000000000000000e+00    0.0000000000000000e+00\n",
      "Variable bound violation:   0.0000000000000000e+00    0.0000000000000000e+00\n",
      "Complementarity.........:   2.5059041508837708e-09    2.5059041508837708e-09\n",
      "Overall NLP error.......:   2.5059041508837708e-09    2.5059041508837708e-09\n",
      "\n",
      "\n",
      "Number of objective function evaluations             = 14\n",
      "Number of objective gradient evaluations             = 12\n",
      "Number of equality constraint evaluations            = 14\n",
      "Number of inequality constraint evaluations          = 0\n",
      "Number of equality constraint Jacobian evaluations   = 1\n",
      "Number of inequality constraint Jacobian evaluations = 0\n",
      "Number of Lagrangian Hessian evaluations             = 11\n",
      "Total seconds in IPOPT                               = 0.007\n",
      "\n",
      "EXIT: Optimal Solution Found.\n"
     ]
    }
   ],
   "source": [
    "optimize!(model)"
   ]
  },
  {
   "cell_type": "code",
   "execution_count": 203,
   "metadata": {},
   "outputs": [
    {
     "name": "stdout",
     "output_type": "stream",
     "text": [
      "value.(l) = 16.256576216000635\n"
     ]
    },
    {
     "data": {
      "text/plain": [
       "16.256576216000635"
      ]
     },
     "metadata": {},
     "output_type": "display_data"
    }
   ],
   "source": [
    "@show value.(l)"
   ]
  },
  {
   "cell_type": "code",
   "execution_count": 204,
   "metadata": {},
   "outputs": [
    {
     "name": "stdout",
     "output_type": "stream",
     "text": [
      "value.(b) = 11.256576216000635\n"
     ]
    },
    {
     "data": {
      "text/plain": [
       "11.256576216000635"
      ]
     },
     "metadata": {},
     "output_type": "display_data"
    }
   ],
   "source": [
    "@show value.(b)"
   ]
  },
  {
   "cell_type": "code",
   "execution_count": 205,
   "metadata": {},
   "outputs": [
    {
     "name": "stdout",
     "output_type": "stream",
     "text": [
      "value.(h) = 2.871711891999682\n"
     ]
    },
    {
     "data": {
      "text/plain": [
       "2.871711891999682"
      ]
     },
     "metadata": {},
     "output_type": "display_data"
    }
   ],
   "source": [
    "@show value.(h)"
   ]
  },
  {
   "cell_type": "code",
   "execution_count": 206,
   "metadata": {},
   "outputs": [
    {
     "name": "stdout",
     "output_type": "stream",
     "text": [
      "objective_value(model) = 486.7739513379749\n"
     ]
    },
    {
     "data": {
      "text/plain": [
       "486.7739513379749"
      ]
     },
     "metadata": {},
     "output_type": "display_data"
    }
   ],
   "source": [
    "@show objective_value(model)"
   ]
  }
 ],
 "metadata": {
  "kernelspec": {
   "display_name": "Julia 1.9.2",
   "language": "julia",
   "name": "julia-1.9"
  },
  "language_info": {
   "file_extension": ".jl",
   "mimetype": "application/julia",
   "name": "julia",
   "version": "1.9.2"
  },
  "orig_nbformat": 4
 },
 "nbformat": 4,
 "nbformat_minor": 2
}
