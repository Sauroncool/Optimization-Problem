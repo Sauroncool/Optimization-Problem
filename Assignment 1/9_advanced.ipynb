{
 "cells": [
  {
   "cell_type": "code",
   "execution_count": 1,
   "metadata": {},
   "outputs": [],
   "source": [
    "using JuMP\n",
    "using CPLEX"
   ]
  },
  {
   "cell_type": "code",
   "execution_count": 2,
   "metadata": {},
   "outputs": [
    {
     "data": {
      "text/plain": [
       "4×3 Matrix{Int64}:\n",
       " 14   5  200\n",
       " 31  10  350\n",
       " 36  15  400\n",
       " 45   5  500"
      ]
     },
     "metadata": {},
     "output_type": "display_data"
    }
   ],
   "source": [
    "order_details = [14 5 200; 31 10 350; 36 15 400; 45 5 500]"
   ]
  },
  {
   "cell_type": "code",
   "execution_count": 3,
   "metadata": {},
   "outputs": [
    {
     "data": {
      "text/plain": [
       "5"
      ]
     },
     "metadata": {},
     "output_type": "display_data"
    }
   ],
   "source": [
    "scrap_price = 5"
   ]
  },
  {
   "cell_type": "code",
   "execution_count": 4,
   "metadata": {},
   "outputs": [
    {
     "data": {
      "text/plain": [
       "700"
      ]
     },
     "metadata": {},
     "output_type": "display_data"
    }
   ],
   "source": [
    "manufacturing_cost = 700"
   ]
  },
  {
   "cell_type": "code",
   "execution_count": 5,
   "metadata": {},
   "outputs": [
    {
     "data": {
      "text/plain": [
       "A JuMP Model\n",
       "Feasibility problem with:\n",
       "Variables: 0\n",
       "Model mode: AUTOMATIC\n",
       "CachingOptimizer state: EMPTY_OPTIMIZER\n",
       "Solver name: CPLEX"
      ]
     },
     "metadata": {},
     "output_type": "display_data"
    }
   ],
   "source": [
    "model = Model(CPLEX.Optimizer)"
   ]
  },
  {
   "cell_type": "code",
   "execution_count": 6,
   "metadata": {},
   "outputs": [
    {
     "data": {
      "text/plain": [
       "4×10 Matrix{VariableRef}:\n",
       " x[1,1]  x[1,2]  x[1,3]  x[1,4]  x[1,5]  …  x[1,7]  x[1,8]  x[1,9]  x[1,10]\n",
       " x[2,1]  x[2,2]  x[2,3]  x[2,4]  x[2,5]     x[2,7]  x[2,8]  x[2,9]  x[2,10]\n",
       " x[3,1]  x[3,2]  x[3,3]  x[3,4]  x[3,5]     x[3,7]  x[3,8]  x[3,9]  x[3,10]\n",
       " x[4,1]  x[4,2]  x[4,3]  x[4,4]  x[4,5]     x[4,7]  x[4,8]  x[4,9]  x[4,10]"
      ]
     },
     "metadata": {},
     "output_type": "display_data"
    }
   ],
   "source": [
    "@variable(model, x[i=1:4, j =1:10], lower_bound = 0, Int)"
   ]
  },
  {
   "cell_type": "code",
   "execution_count": 7,
   "metadata": {},
   "outputs": [
    {
     "data": {
      "text/latex": [
       "$$ [x_{1,1} + x_{1,2} + x_{1,3} + x_{1,4} + x_{1,5} + x_{1,6} + x_{1,7} + x_{1,8} + x_{1,9} + x_{1,10} - 5, x_{2,1} + x_{2,2} + x_{2,3} + x_{2,4} + x_{2,5} + x_{2,6} + x_{2,7} + x_{2,8} + x_{2,9} + x_{2,10} - 10, x_{3,1} + x_{3,2} + x_{3,3} + x_{3,4} + x_{3,5} + x_{3,6} + x_{3,7} + x_{3,8} + x_{3,9} + x_{3,10} - 15, x_{4,1} + x_{4,2} + x_{4,3} + x_{4,4} + x_{4,5} + x_{4,6} + x_{4,7} + x_{4,8} + x_{4,9} + x_{4,10} - 5] \\in \\text{MathOptInterface.Nonpositives(4)} $$"
      ],
      "text/plain": [
       "[x[1,1] + x[1,2] + x[1,3] + x[1,4] + x[1,5] + x[1,6] + x[1,7] + x[1,8] + x[1,9] + x[1,10] - 5, x[2,1] + x[2,2] + x[2,3] + x[2,4] + x[2,5] + x[2,6] + x[2,7] + x[2,8] + x[2,9] + x[2,10] - 10, x[3,1] + x[3,2] + x[3,3] + x[3,4] + x[3,5] + x[3,6] + x[3,7] + x[3,8] + x[3,9] + x[3,10] - 15, x[4,1] + x[4,2] + x[4,3] + x[4,4] + x[4,5] + x[4,6] + x[4,7] + x[4,8] + x[4,9] + x[4,10] - 5] in MathOptInterface.Nonpositives(4)"
      ]
     },
     "metadata": {},
     "output_type": "display_data"
    }
   ],
   "source": [
    "@constraint(model, sum(x[:, j] for j in 1:10) <= order_details[:, 2])"
   ]
  },
  {
   "cell_type": "code",
   "execution_count": 8,
   "metadata": {},
   "outputs": [
    {
     "data": {
      "text/plain": [
       "10-element Vector{ConstraintRef{Model, MathOptInterface.ConstraintIndex{MathOptInterface.ScalarAffineFunction{Float64}, MathOptInterface.LessThan{Float64}}, ScalarShape}}:\n",
       " 14 x[1,1] + 31 x[2,1] + 36 x[3,1] + 45 x[4,1] <= 100\n",
       " 14 x[1,2] + 31 x[2,2] + 36 x[3,2] + 45 x[4,2] <= 100\n",
       " 14 x[1,3] + 31 x[2,3] + 36 x[3,3] + 45 x[4,3] <= 100\n",
       " 14 x[1,4] + 31 x[2,4] + 36 x[3,4] + 45 x[4,4] <= 100\n",
       " 14 x[1,5] + 31 x[2,5] + 36 x[3,5] + 45 x[4,5] <= 100\n",
       " 14 x[1,6] + 31 x[2,6] + 36 x[3,6] + 45 x[4,6] <= 100\n",
       " 14 x[1,7] + 31 x[2,7] + 36 x[3,7] + 45 x[4,7] <= 100\n",
       " 14 x[1,8] + 31 x[2,8] + 36 x[3,8] + 45 x[4,8] <= 100\n",
       " 14 x[1,9] + 31 x[2,9] + 36 x[3,9] + 45 x[4,9] <= 100\n",
       " 14 x[1,10] + 31 x[2,10] + 36 x[3,10] + 45 x[4,10] <= 100"
      ]
     },
     "metadata": {},
     "output_type": "display_data"
    }
   ],
   "source": [
    "@constraint(model, sum((x .*order_details[:, 1])[i,:] for i in 1:4) .<= 100)"
   ]
  },
  {
   "cell_type": "code",
   "execution_count": 9,
   "metadata": {},
   "outputs": [
    {
     "data": {
      "text/plain": [
       "10-element Vector{AffExpr}:\n",
       " -14 x[1,1] - 31 x[2,1] - 36 x[3,1] - 45 x[4,1] + 100\n",
       " -14 x[1,2] - 31 x[2,2] - 36 x[3,2] - 45 x[4,2] + 100\n",
       " -14 x[1,3] - 31 x[2,3] - 36 x[3,3] - 45 x[4,3] + 100\n",
       " -14 x[1,4] - 31 x[2,4] - 36 x[3,4] - 45 x[4,4] + 100\n",
       " -14 x[1,5] - 31 x[2,5] - 36 x[3,5] - 45 x[4,5] + 100\n",
       " -14 x[1,6] - 31 x[2,6] - 36 x[3,6] - 45 x[4,6] + 100\n",
       " -14 x[1,7] - 31 x[2,7] - 36 x[3,7] - 45 x[4,7] + 100\n",
       " -14 x[1,8] - 31 x[2,8] - 36 x[3,8] - 45 x[4,8] + 100\n",
       " -14 x[1,9] - 31 x[2,9] - 36 x[3,9] - 45 x[4,9] + 100\n",
       " -14 x[1,10] - 31 x[2,10] - 36 x[3,10] - 45 x[4,10] + 100"
      ]
     },
     "metadata": {},
     "output_type": "display_data"
    }
   ],
   "source": [
    "scrap = 100 .- sum((x .*order_details[:, 1])[i,:] for i in 1:4)"
   ]
  },
  {
   "cell_type": "code",
   "execution_count": 10,
   "metadata": {},
   "outputs": [
    {
     "data": {
      "text/latex": [
       "$$ 130 x_{1,1} + 195 x_{2,1} + 220 x_{3,1} + 275 x_{4,1} + 130 x_{1,2} + 195 x_{2,2} + 220 x_{3,2} + 275 x_{4,2} + 130 x_{1,3} + 195 x_{2,3} + 220 x_{3,3} + 275 x_{4,3} + 130 x_{1,4} + 195 x_{2,4} + 220 x_{3,4} + 275 x_{4,4} + 130 x_{1,5} + 195 x_{2,5} + 220 x_{3,5} + 275 x_{4,5} + 130 x_{1,6} + 195 x_{2,6} + 220 x_{3,6} + 275 x_{4,6} + 130 x_{1,7} + 195 x_{2,7} + 220 x_{3,7} + 275 x_{4,7} + 130 x_{1,8} + 195 x_{2,8} + 220 x_{3,8} + 275 x_{4,8} + 130 x_{1,9} + 195 x_{2,9} + 220 x_{3,9} + 275 x_{4,9} + 130 x_{1,10} + 195 x_{2,10} + 220 x_{3,10} + 275 x_{4,10} - 2000 $$"
      ],
      "text/plain": [
       "130 x[1,1] + 195 x[2,1] + 220 x[3,1] + 275 x[4,1] + 130 x[1,2] + 195 x[2,2] + 220 x[3,2] + 275 x[4,2] + 130 x[1,3] + 195 x[2,3] + 220 x[3,3] + 275 x[4,3] + 130 x[1,4] + 195 x[2,4] + 220 x[3,4] + 275 x[4,4] + 130 x[1,5] + 195 x[2,5] + 220 x[3,5] + 275 x[4,5] + 130 x[1,6] + 195 x[2,6] + 220 x[3,6] + 275 x[4,6] + 130 x[1,7] + 195 x[2,7] + 220 x[3,7] + 275 x[4,7] + 130 x[1,8] + 195 x[2,8] + 220 x[3,8] + 275 x[4,8] + 130 x[1,9] + 195 x[2,9] + 220 x[3,9] + 275 x[4,9] + 130 x[1,10] + 195 x[2,10] + 220 x[3,10] + 275 x[4,10] - 2000"
      ]
     },
     "metadata": {},
     "output_type": "display_data"
    }
   ],
   "source": [
    "profit = sum(sum((x .* order_details[:, 3])[i,:] for i in 1:4)) + sum(scrap * scrap_price) - manufacturing_cost*10"
   ]
  },
  {
   "cell_type": "code",
   "execution_count": 11,
   "metadata": {},
   "outputs": [
    {
     "data": {
      "text/latex": [
       "$$ 130 x_{1,1} + 195 x_{2,1} + 220 x_{3,1} + 275 x_{4,1} + 130 x_{1,2} + 195 x_{2,2} + 220 x_{3,2} + 275 x_{4,2} + 130 x_{1,3} + 195 x_{2,3} + 220 x_{3,3} + 275 x_{4,3} + 130 x_{1,4} + 195 x_{2,4} + 220 x_{3,4} + 275 x_{4,4} + 130 x_{1,5} + 195 x_{2,5} + 220 x_{3,5} + 275 x_{4,5} + 130 x_{1,6} + 195 x_{2,6} + 220 x_{3,6} + 275 x_{4,6} + 130 x_{1,7} + 195 x_{2,7} + 220 x_{3,7} + 275 x_{4,7} + 130 x_{1,8} + 195 x_{2,8} + 220 x_{3,8} + 275 x_{4,8} + 130 x_{1,9} + 195 x_{2,9} + 220 x_{3,9} + 275 x_{4,9} + 130 x_{1,10} + 195 x_{2,10} + 220 x_{3,10} + 275 x_{4,10} - 2000 $$"
      ],
      "text/plain": [
       "130 x[1,1] + 195 x[2,1] + 220 x[3,1] + 275 x[4,1] + 130 x[1,2] + 195 x[2,2] + 220 x[3,2] + 275 x[4,2] + 130 x[1,3] + 195 x[2,3] + 220 x[3,3] + 275 x[4,3] + 130 x[1,4] + 195 x[2,4] + 220 x[3,4] + 275 x[4,4] + 130 x[1,5] + 195 x[2,5] + 220 x[3,5] + 275 x[4,5] + 130 x[1,6] + 195 x[2,6] + 220 x[3,6] + 275 x[4,6] + 130 x[1,7] + 195 x[2,7] + 220 x[3,7] + 275 x[4,7] + 130 x[1,8] + 195 x[2,8] + 220 x[3,8] + 275 x[4,8] + 130 x[1,9] + 195 x[2,9] + 220 x[3,9] + 275 x[4,9] + 130 x[1,10] + 195 x[2,10] + 220 x[3,10] + 275 x[4,10] - 2000"
      ]
     },
     "metadata": {},
     "output_type": "display_data"
    }
   ],
   "source": [
    "@objective(model, Max, profit)"
   ]
  },
  {
   "cell_type": "code",
   "execution_count": 12,
   "metadata": {},
   "outputs": [
    {
     "name": "stdout",
     "output_type": "stream",
     "text": [
      "Version identifier: 22.1.1.0 | 2022-11-26 | 9160aff4d\r\n",
      "Found incumbent of value -2000.000000 after 0.00 sec. (0.00 ticks)\r\n",
      "Tried aggregator 1 time.\r\n",
      "Reduced MIP has 14 rows, 40 columns, and 80 nonzeros.\r\n",
      "Reduced MIP has 0 binaries, 40 generals, 0 SOSs, and 0 indicators.\r\n",
      "Presolve time = 0.00 sec. (0.04 ticks)\r\n",
      "Tried aggregator 1 time.\r\n",
      "Detecting symmetries...\r\n",
      "Reduced MIP has 14 rows, 40 columns, and 80 nonzeros.\r\n",
      "Reduced MIP has 0 binaries, 40 generals, 0 SOSs, and 0 indicators.\r\n",
      "Presolve time = 0.00 sec. (0.07 ticks)\r\n",
      "MIP emphasis: balance optimality and feasibility.\r\n",
      "MIP search method: dynamic search.\r\n",
      "Parallel mode: deterministic, using up to 8 threads.\r\n",
      "Root relaxation solution time = 0.00 sec. (0.06 ticks)\r\n",
      "\r\n",
      "        Nodes                                         Cuts/\r\n",
      "   Node  Left     Objective  IInf  Best Integer    Best Bound    ItCnt     Gap\r\n",
      "\r\n",
      "*     0+    0                        -2000.0000    20250.0000              --- \r\n",
      "*     0+    0                         4175.0000    20250.0000           385.03%\r\n",
      "      0     0     4388.8889    10     4175.0000     4388.8889       28    5.12%\r\n",
      "      0     0     4388.8889    18     4175.0000      Cuts: 13       52    5.12%\r\n",
      "      0     0     4388.8889    19     4175.0000      Cuts: 16       79    5.12%\r\n",
      "      0     2     4388.8889    19     4175.0000     4388.8889       79    5.12%\r\n",
      "Elapsed time = 0.05 sec. (1.11 ticks, tree = 0.02 MB, solutions = 2)\r\n"
     ]
    }
   ],
   "source": [
    "optimize!(model)"
   ]
  },
  {
   "cell_type": "code",
   "execution_count": 13,
   "metadata": {},
   "outputs": [
    {
     "data": {
      "text/plain": [
       "* Solver : CPLEX\n",
       "\n",
       "* Status\n",
       "  Result count       : 1\n",
       "  Termination status : OPTIMAL\n",
       "  Message from the solver:\n",
       "  \"integer optimal solution\"\n",
       "\n",
       "* Candidate solution (result #1)\n",
       "  Primal status      : FEASIBLE_POINT\n",
       "  Dual status        : NO_SOLUTION\n",
       "  Objective value    : 4.17500e+03\n",
       "  Objective bound    : 4.17500e+03\n",
       "  Relative gap       : 0.00000e+00\n",
       "  Dual objective value : 4.17500e+03\n",
       "\n",
       "* Work counters\n",
       "  Solve time (sec)   : 1.24000e-01\n",
       "  Simplex iterations : 0\n",
       "  Barrier iterations : 0\n",
       "  Node count         : 261\n"
      ]
     },
     "metadata": {},
     "output_type": "display_data"
    }
   ],
   "source": [
    "solution_summary(model)"
   ]
  },
  {
   "cell_type": "code",
   "execution_count": 14,
   "metadata": {},
   "outputs": [],
   "source": [
    "set_optimizer_attribute(model, \"CPX_PARAM_SOLNPOOLAGAP\", 0.0)\n",
    "set_optimizer_attribute(model, \"CPX_PARAM_SOLNPOOLINTENSITY\", 4)\n",
    "set_optimizer_attribute(model, \"CPX_PARAM_POPULATELIM\", 100)"
   ]
  },
  {
   "cell_type": "code",
   "execution_count": 15,
   "metadata": {},
   "outputs": [],
   "source": [
    "backend_model = unsafe_backend(model);\n",
    "env = backend_model.env;\n",
    "lp = backend_model.lp;"
   ]
  },
  {
   "cell_type": "code",
   "execution_count": 16,
   "metadata": {},
   "outputs": [
    {
     "name": "stdout",
     "output_type": "stream",
     "text": [
      "\r\n",
      "Mixed integer rounding cuts applied:  11\r\n",
      "Zero-half cuts applied:  2\r\n",
      "Gomory fractional cuts applied:  5\r\n",
      "\r\n",
      "Root node processing (before b&c):\r\n",
      "  Real time             =    0.05 sec. (1.09 ticks)\r\n",
      "Parallel b&c, 8 threads:\r\n",
      "  Real time             =    0.06 sec. (1.92 ticks)\r\n",
      "  Sync time (average)   =    0.05 sec.\r\n",
      "  Wait time (average)   =    0.00 sec.\r\n",
      "                          ------------\r\n",
      "Total (root+branch&cut) =    0.11 sec. (3.01 ticks)\r\n",
      "CPLEX Error  1217: No solution exists.\r\n",
      "CPLEX Error  1217: No solution exists.\r\n",
      "Version identifier: 22.1.1.0 | 2022-11-26 | 9160aff4d\r\n",
      "CPXPARAM_MIP_Pool_Intensity                      4\r\n",
      "CPXPARAM_MIP_Limits_Populate                     100\r\n",
      "CPXPARAM_MIP_Pool_AbsGap                         0\r\n",
      "\r\n",
      "Populate: phase I \r\n",
      "2 of 2 MIP starts provided solutions.\r\n",
      "MIP start 'm1' defined initial solution with objective 4175.0000.\r\n",
      "Tried aggregator 1 time.\r\n",
      "Reduced MIP has 14 rows, 40 columns, and 80 nonzeros.\r\n",
      "Reduced MIP has 0 binaries, 40 generals, 0 SOSs, and 0 indicators.\r\n",
      "Presolve time = 0.00 sec. (0.03 ticks)\r\n",
      "Tried aggregator 1 time.\r\n",
      "Reduced MIP has 14 rows, 40 columns, and 80 nonzeros.\r\n",
      "Reduced MIP has 0 binaries, 40 generals, 0 SOSs, and 0 indicators.\r\n",
      "Presolve time = 0.00 sec. (0.02 ticks)\r\n",
      "MIP emphasis: balance optimality and feasibility.\r\n",
      "MIP search method: dynamic search.\r\n",
      "Parallel mode: deterministic, using up to 8 threads.\r\n",
      "Root relaxation solution time = 0.00 sec. (0.06 ticks)\r\n",
      "\r\n",
      "        Nodes                                         Cuts/\r\n",
      "   Node  Left     Objective  IInf  Best Integer    Best Bound    ItCnt     Gap\r\n",
      "\r\n",
      "*     0+    0                         4175.0000    20250.0000           385.03%\r\n",
      "      0     0     4388.8889    10     4175.0000     4388.8889       28    5.12%\r\n",
      "      0     0     4388.8889    18     4175.0000      Cuts: 13       52    5.12%\r\n",
      "      0     0     4388.8889    20     4175.0000      Cuts: 16       78    5.12%\r\n",
      "      0     2     4388.8889    20     4175.0000     4388.8889       78    5.12%\r\n",
      "Elapsed time = 0.03 sec. (1.07 ticks, tree = 0.02 MB, solutions = 1)\r\n",
      "\r\n",
      "Performing restart 1\r\n",
      "\r\n",
      "Repeating presolve.\r\n",
      "Tried aggregator 1 time.\r\n",
      "MIP Presolve modified 50 coefficients.\r\n",
      "Reduced MIP has 14 rows, 40 columns, and 80 nonzeros.\r\n",
      "Reduced MIP has 0 binaries, 40 generals, 0 SOSs, and 0 indicators.\r\n",
      "Presolve time = 0.02 sec. (0.06 ticks)\r\n",
      "Tried aggregator 1 time.\r\n",
      "Reduced MIP has 14 rows, 40 columns, and 80 nonzeros.\r\n",
      "Reduced MIP has 0 binaries, 40 generals, 0 SOSs, and 0 indicators.\r\n",
      "Presolve time = 0.00 sec. (0.05 ticks)\r\n",
      "Represolve time = 0.02 sec. (0.22 ticks)\r\n",
      "   9419     0     4194.8428    16     4175.0000      Cuts: 22    32865    0.48%\r\n",
      "   9419     0     4175.0000     0     4175.0000   MIRcuts: 21    32871    0.00%\r\n",
      "\r\n",
      "Mixed integer rounding cuts applied:  40\r\n",
      "Zero-half cuts applied:  2\r\n",
      "\r\n",
      "Root node processing (before b&c):\r\n",
      "  Real time             =    0.02 sec. (1.05 ticks)\r\n",
      "Parallel b&c, 8 threads:\r\n",
      "  Real time             =    0.30 sec. (41.60 ticks)\r\n",
      "  Sync time (average)   =    0.04 sec.\r\n",
      "  Wait time (average)   =    0.00 sec.\r\n",
      "                          ------------\r\n",
      "Total (root+branch&cut) =    0.31 sec. (42.66 ticks)\r\n",
      "\r\n",
      "Populate: phase II \r\n",
      "\r\n",
      "        Nodes                                         Cuts/\r\n",
      "   Node  Left     Objective  IInf  Best Integer    Best Bound    ItCnt     Gap\r\n",
      "\r\n",
      "   9419     2     4175.0000     1     4175.0000     4175.0000    32871    0.00%\r\n",
      "Elapsed time = 0.33 sec. (43.36 ticks, tree = 0.02 MB, solutions = 7)\r\n",
      "*  9428     6      integral     0     4175.0000     4175.0000    32878    0.00%\r\n",
      "*  9504    16      integral     0     4175.0000     4175.0000    32896    0.00%\r\n",
      "* 24265  4046      integral     0     4175.0000     4175.0000    46695    0.00%\r\n",
      "  85505 25967     4175.0000     1     4175.0000     4175.0000   145655    0.00%\r\n",
      " 149860 47438     4175.0000     1     4175.0000     4175.0000   250006    0.00%\r\n",
      " 214974 77663     4175.0000     1     4175.0000     4175.0000   403069    0.00%\r\n",
      " 280517 95364     4175.0000     1     4175.0000     4175.0000   494710    0.00%\r\n",
      " 345381 119630     3980.0000     2     4175.0000     4175.0000   618894    0.00%\r\n",
      " 411237 139548     4175.0000     1     4175.0000     4175.0000   720196    0.00%\r\n"
     ]
    }
   ],
   "source": [
    "CPLEX.CPXpopulate(env, lp);"
   ]
  },
  {
   "cell_type": "code",
   "execution_count": 17,
   "metadata": {},
   "outputs": [
    {
     "data": {
      "text/plain": [
       "1"
      ]
     },
     "metadata": {},
     "output_type": "display_data"
    }
   ],
   "source": [
    "N_results = CPLEX.CPXgetsolnpoolnumsolns(env, lp)"
   ]
  },
  {
   "cell_type": "code",
   "execution_count": 20,
   "metadata": {},
   "outputs": [
    {
     "data": {
      "text/plain": [
       "Dict{Any, Any}()"
      ]
     },
     "metadata": {},
     "output_type": "display_data"
    }
   ],
   "source": [
    "TermSolutions2 = Dict()"
   ]
  }
 ],
 "metadata": {
  "kernelspec": {
   "display_name": "Julia 1.9.2",
   "language": "julia",
   "name": "julia-1.9"
  },
  "language_info": {
   "file_extension": ".jl",
   "mimetype": "application/julia",
   "name": "julia",
   "version": "1.9.2"
  },
  "orig_nbformat": 4
 },
 "nbformat": 4,
 "nbformat_minor": 2
}
