{
 "cells": [
  {
   "cell_type": "code",
   "execution_count": 112,
   "metadata": {},
   "outputs": [],
   "source": [
    "using JuMP"
   ]
  },
  {
   "cell_type": "code",
   "execution_count": 113,
   "metadata": {},
   "outputs": [],
   "source": [
    "using CPLEX"
   ]
  },
  {
   "cell_type": "code",
   "execution_count": 114,
   "metadata": {},
   "outputs": [
    {
     "data": {
      "text/plain": [
       "A JuMP Model\n",
       "Feasibility problem with:\n",
       "Variables: 0\n",
       "Model mode: AUTOMATIC\n",
       "CachingOptimizer state: EMPTY_OPTIMIZER\n",
       "Solver name: CPLEX"
      ]
     },
     "metadata": {},
     "output_type": "display_data"
    }
   ],
   "source": [
    "model=Model(CPLEX.Optimizer)"
   ]
  },
  {
   "cell_type": "code",
   "execution_count": 115,
   "metadata": {},
   "outputs": [
    {
     "data": {
      "text/plain": [
       "3×2 Matrix{VariableRef}:\n",
       " x[1,1]  x[1,2]\n",
       " x[2,1]  x[2,2]\n",
       " x[3,1]  x[3,2]"
      ]
     },
     "metadata": {},
     "output_type": "display_data"
    }
   ],
   "source": [
    "@variable(model, x[i=1:3,j=1:2],lower_bound=0)\n"
   ]
  },
  {
   "cell_type": "code",
   "execution_count": 116,
   "metadata": {},
   "outputs": [
    {
     "data": {
      "text/latex": [
       "$$ x_{1,1} + x_{1,2} \\leq 200 $$"
      ],
      "text/plain": [
       "x[1,1] + x[1,2] <= 200"
      ]
     },
     "metadata": {},
     "output_type": "display_data"
    }
   ],
   "source": [
    "@constraint(model, sum(x[1,j] for j=1:2) <= 200)\n"
   ]
  },
  {
   "cell_type": "code",
   "execution_count": 117,
   "metadata": {},
   "outputs": [
    {
     "data": {
      "text/latex": [
       "$$ x_{2,1} + x_{2,2} \\leq 310 $$"
      ],
      "text/plain": [
       "x[2,1] + x[2,2] <= 310"
      ]
     },
     "metadata": {},
     "output_type": "display_data"
    }
   ],
   "source": [
    "@constraint(model, sum(x[2,j] for j=1:2) <= 310)\n"
   ]
  },
  {
   "cell_type": "code",
   "execution_count": 118,
   "metadata": {},
   "outputs": [
    {
     "data": {
      "text/latex": [
       "$$ x_{3,1} + x_{3,2} \\leq 420 $$"
      ],
      "text/plain": [
       "x[3,1] + x[3,2] <= 420"
      ]
     },
     "metadata": {},
     "output_type": "display_data"
    }
   ],
   "source": [
    "@constraint(model, sum(x[3,j] for j=1:2) <= 420)"
   ]
  },
  {
   "cell_type": "code",
   "execution_count": 119,
   "metadata": {},
   "outputs": [
    {
     "data": {
      "text/latex": [
       "$$ x_{1,1} + x_{2,1} + x_{3,1} \\leq 460 $$"
      ],
      "text/plain": [
       "x[1,1] + x[2,1] + x[3,1] <= 460"
      ]
     },
     "metadata": {},
     "output_type": "display_data"
    }
   ],
   "source": [
    "@constraint(model, sum(x[i,1] for i=1:3) <= 460)"
   ]
  },
  {
   "cell_type": "code",
   "execution_count": 120,
   "metadata": {},
   "outputs": [
    {
     "data": {
      "text/latex": [
       "$$ x_{1,2} + x_{2,2} + x_{3,2} \\leq 560 $$"
      ],
      "text/plain": [
       "x[1,2] + x[2,2] + x[3,2] <= 560"
      ]
     },
     "metadata": {},
     "output_type": "display_data"
    }
   ],
   "source": [
    "@constraint(model, sum(x[i,2] for i=1:3) <= 560)"
   ]
  },
  {
   "cell_type": "code",
   "execution_count": 121,
   "metadata": {},
   "outputs": [
    {
     "data": {
      "text/plain": [
       "3-element Vector{Int64}:\n",
       " 1100\n",
       " 1000\n",
       "  900"
      ]
     },
     "metadata": {},
     "output_type": "display_data"
    }
   ],
   "source": [
    "BC=[1100,1000,900]"
   ]
  },
  {
   "cell_type": "code",
   "execution_count": 122,
   "metadata": {},
   "outputs": [
    {
     "data": {
      "text/latex": [
       "$$ 1100 x_{1,1} + 1100 x_{1,2} + 1000 x_{2,1} + 1000 x_{2,2} + 900 x_{3,1} + 900 x_{3,2} $$"
      ],
      "text/plain": [
       "1100 x[1,1] + 1100 x[1,2] + 1000 x[2,1] + 1000 x[2,2] + 900 x[3,1] + 900 x[3,2]"
      ]
     },
     "metadata": {},
     "output_type": "display_data"
    }
   ],
   "source": [
    "buying_cost=sum(BC[i] * sum(x[i,j] for j=1:2) for i=1:3)"
   ]
  },
  {
   "cell_type": "code",
   "execution_count": 123,
   "metadata": {},
   "outputs": [
    {
     "data": {
      "text/plain": [
       "3-element Vector{Vector{Int64}}:\n",
       " [3000, 3500]\n",
       " [2000, 2500]\n",
       " [6000, 4000]"
      ]
     },
     "metadata": {},
     "output_type": "display_data"
    }
   ],
   "source": [
    "SC=[[3000,3500],[2000,2500],[6000,4000]]"
   ]
  },
  {
   "cell_type": "code",
   "execution_count": 124,
   "metadata": {},
   "outputs": [
    {
     "data": {
      "text/latex": [
       "$$ 3000 x_{1,1} + 3500 x_{1,2} + 2000 x_{2,1} + 2500 x_{2,2} + 6000 x_{3,1} + 4000 x_{3,2} $$"
      ],
      "text/plain": [
       "3000 x[1,1] + 3500 x[1,2] + 2000 x[2,1] + 2500 x[2,2] + 6000 x[3,1] + 4000 x[3,2]"
      ]
     },
     "metadata": {},
     "output_type": "display_data"
    }
   ],
   "source": [
    "shipping_cost= sum(sum(SC[i][j] * x[i, j] for j = 1:2) for i = 1:3)"
   ]
  },
  {
   "cell_type": "code",
   "execution_count": 125,
   "metadata": {},
   "outputs": [
    {
     "data": {
      "text/latex": [
       "$$ 26000 x_{1,1} + 26000 x_{2,1} + 26000 x_{3,1} + 21000 x_{1,2} + 21000 x_{2,2} + 21000 x_{3,2} $$"
      ],
      "text/plain": [
       "26000 x[1,1] + 26000 x[2,1] + 26000 x[3,1] + 21000 x[1,2] + 21000 x[2,2] + 21000 x[3,2]"
      ]
     },
     "metadata": {},
     "output_type": "display_data"
    }
   ],
   "source": [
    "canning_cost = 26000*sum(x[i,1] for i=1:3) + 21000 * sum(x[i,2] for i=1:3)"
   ]
  },
  {
   "cell_type": "code",
   "execution_count": 126,
   "metadata": {},
   "outputs": [
    {
     "data": {
      "text/latex": [
       "$$ 50000 x_{1,1} + 50000 x_{1,2} + 50000 x_{2,1} + 50000 x_{2,2} + 50000 x_{3,1} + 50000 x_{3,2} $$"
      ],
      "text/plain": [
       "50000 x[1,1] + 50000 x[1,2] + 50000 x[2,1] + 50000 x[2,2] + 50000 x[3,1] + 50000 x[3,2]"
      ]
     },
     "metadata": {},
     "output_type": "display_data"
    }
   ],
   "source": [
    "selling_price = 50000 * sum(sum(x[i, j] for j = 1:2) for i = 1:3)"
   ]
  },
  {
   "cell_type": "code",
   "execution_count": 127,
   "metadata": {},
   "outputs": [
    {
     "data": {
      "text/latex": [
       "$$ 19900 x_{1,1} + 24400 x_{1,2} + 21000 x_{2,1} + 25500 x_{2,2} + 17100 x_{3,1} + 24100 x_{3,2} $$"
      ],
      "text/plain": [
       "19900 x[1,1] + 24400 x[1,2] + 21000 x[2,1] + 25500 x[2,2] + 17100 x[3,1] + 24100 x[3,2]"
      ]
     },
     "metadata": {},
     "output_type": "display_data"
    }
   ],
   "source": [
    "profit=selling_price-buying_cost-shipping_cost-canning_cost"
   ]
  },
  {
   "cell_type": "code",
   "execution_count": 128,
   "metadata": {},
   "outputs": [
    {
     "data": {
      "text/latex": [
       "$$ 19900 x_{1,1} + 24400 x_{1,2} + 21000 x_{2,1} + 25500 x_{2,2} + 17100 x_{3,1} + 24100 x_{3,2} $$"
      ],
      "text/plain": [
       "19900 x[1,1] + 24400 x[1,2] + 21000 x[2,1] + 25500 x[2,2] + 17100 x[3,1] + 24100 x[3,2]"
      ]
     },
     "metadata": {},
     "output_type": "display_data"
    }
   ],
   "source": [
    "@objective(model,Max,profit)"
   ]
  },
  {
   "cell_type": "code",
   "execution_count": 129,
   "metadata": {},
   "outputs": [
    {
     "name": "stdout",
     "output_type": "stream",
     "text": [
      "model = A JuMP Model\n",
      "Maximization problem with:\n",
      "Variables: 6\n",
      "Objective function type: AffExpr\n",
      "`AffExpr`-in-`MathOptInterface.LessThan{Float64}`: 5 constraints\n",
      "`VariableRef`-in-`MathOptInterface.GreaterThan{Float64}`: 6 constraints\n",
      "Model mode: AUTOMATIC\n",
      "CachingOptimizer state: EMPTY_OPTIMIZER\n",
      "Solver name: CPLEX\n",
      "Names registered in the model: x\n"
     ]
    },
    {
     "data": {
      "text/plain": [
       "A JuMP Model\n",
       "Maximization problem with:\n",
       "Variables: 6\n",
       "Objective function type: AffExpr\n",
       "`AffExpr`-in-`MathOptInterface.LessThan{Float64}`: 5 constraints\n",
       "`VariableRef`-in-`MathOptInterface.GreaterThan{Float64}`: 6 constraints\n",
       "Model mode: AUTOMATIC\n",
       "CachingOptimizer state: EMPTY_OPTIMIZER\n",
       "Solver name: CPLEX\n",
       "Names registered in the model: x"
      ]
     },
     "metadata": {},
     "output_type": "display_data"
    }
   ],
   "source": [
    "@show model"
   ]
  },
  {
   "cell_type": "code",
   "execution_count": 130,
   "metadata": {},
   "outputs": [
    {
     "name": "stdout",
     "output_type": "stream",
     "text": [
      "CPLEX Error  3003: Not a mixed-integer problem.\r\n",
      "Version identifier: 22.1.1.0 | 2022-11-26 | 9160aff4d\r\n",
      "Tried aggregator 1 time.\r\n",
      "No LP presolve or aggregator reductions.\r\n",
      "Presolve time = 0.00 sec. (0.00 ticks)\r\n",
      "\r\n",
      "Iteration log . . .\r\n",
      "Iteration:     1   Dual infeasibility =         73999.999998\r\n",
      "Iteration:     3   Dual objective     =      23159000.000000\r\n"
     ]
    }
   ],
   "source": [
    "optimize!(model)"
   ]
  },
  {
   "cell_type": "code",
   "execution_count": 131,
   "metadata": {},
   "outputs": [
    {
     "name": "stdout",
     "output_type": "stream",
     "text": [
      "value.(x) = [200.0 0.0; 170.0 140.0; 0.0 420.0]\n"
     ]
    },
    {
     "data": {
      "text/plain": [
       "3×2 Matrix{Float64}:\n",
       " 200.0    0.0\n",
       " 170.0  140.0\n",
       "   0.0  420.0"
      ]
     },
     "metadata": {},
     "output_type": "display_data"
    }
   ],
   "source": [
    "@show value.(x)"
   ]
  },
  {
   "cell_type": "code",
   "execution_count": 132,
   "metadata": {},
   "outputs": [
    {
     "name": "stdout",
     "output_type": "stream",
     "text": [
      "objective_value(model) = 2.1242e7\n"
     ]
    },
    {
     "data": {
      "text/plain": [
       "2.1242e7"
      ]
     },
     "metadata": {},
     "output_type": "display_data"
    }
   ],
   "source": [
    "@show objective_value(model)"
   ]
  }
 ],
 "metadata": {
  "kernelspec": {
   "display_name": "Julia 1.9.2",
   "language": "julia",
   "name": "julia-1.9"
  },
  "language_info": {
   "file_extension": ".jl",
   "mimetype": "application/julia",
   "name": "julia",
   "version": "1.9.2"
  },
  "orig_nbformat": 4
 },
 "nbformat": 4,
 "nbformat_minor": 2
}
