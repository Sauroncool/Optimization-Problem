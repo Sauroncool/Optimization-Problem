{
 "cells": [
  {
   "cell_type": "markdown",
   "metadata": {},
   "source": [
    "# It is a Non Linear Problem"
   ]
  },
  {
   "cell_type": "code",
   "execution_count": 31,
   "metadata": {},
   "outputs": [],
   "source": [
    "using JuMP\n",
    "import Ipopt"
   ]
  },
  {
   "cell_type": "code",
   "execution_count": 32,
   "metadata": {},
   "outputs": [
    {
     "data": {
      "text/plain": [
       "A JuMP Model\n",
       "Feasibility problem with:\n",
       "Variables: 0\n",
       "Model mode: AUTOMATIC\n",
       "CachingOptimizer state: EMPTY_OPTIMIZER\n",
       "Solver name: Ipopt"
      ]
     },
     "metadata": {},
     "output_type": "display_data"
    }
   ],
   "source": [
    "model = Model(Ipopt.Optimizer) # Using Non Linear solver"
   ]
  },
  {
   "cell_type": "code",
   "execution_count": 33,
   "metadata": {},
   "outputs": [
    {
     "data": {
      "text/latex": [
       "$$ θ $$"
      ],
      "text/plain": [
       "θ"
      ]
     },
     "metadata": {},
     "output_type": "display_data"
    }
   ],
   "source": [
    "@variable(model, θ, lower_bound = 0, upper_bound = 80) # Fixing minimum and maximum value of the decision variable"
   ]
  },
  {
   "cell_type": "code",
   "execution_count": 34,
   "metadata": {},
   "outputs": [
    {
     "data": {
      "text/plain": [
       "50"
      ]
     },
     "metadata": {},
     "output_type": "display_data"
    }
   ],
   "source": [
    "h = 50"
   ]
  },
  {
   "cell_type": "code",
   "execution_count": 35,
   "metadata": {},
   "outputs": [
    {
     "data": {
      "text/plain": [
       "9.81"
      ]
     },
     "metadata": {},
     "output_type": "display_data"
    }
   ],
   "source": [
    "g = 9.81"
   ]
  },
  {
   "cell_type": "code",
   "execution_count": 36,
   "metadata": {},
   "outputs": [
    {
     "data": {
      "text/plain": [
       "90"
      ]
     },
     "metadata": {},
     "output_type": "display_data"
    }
   ],
   "source": [
    "v = 90"
   ]
  },
  {
   "cell_type": "markdown",
   "metadata": {},
   "source": [
    "Time to reach peak height : $$t_{1}=\\frac{v*sin(\\theta)}{g}$$"
   ]
  },
  {
   "cell_type": "code",
   "execution_count": 37,
   "metadata": {},
   "outputs": [
    {
     "data": {
      "text/latex": [
       "subexpression[1]: (90.0 * sind(θ)) / 9.81"
      ],
      "text/plain": [
       "subexpression[1]: (90.0 * sind(θ)) / 9.81"
      ]
     },
     "metadata": {},
     "output_type": "display_data"
    }
   ],
   "source": [
    "t1 = @NLexpression(model, v * sind(θ) / g)"
   ]
  },
  {
   "cell_type": "markdown",
   "metadata": {},
   "source": [
    "Time to reach ground from peak height: $$t_{2}=\\sqrt{\\frac{2H}{g}}$$ where H is the peak height"
   ]
  },
  {
   "cell_type": "markdown",
   "metadata": {},
   "source": [
    "$$ H = h + \\frac{v^2*sin^2(\\theta)}{2g}$$"
   ]
  },
  {
   "cell_type": "markdown",
   "metadata": {},
   "source": [
    "So $$ t_{2} = \\sqrt{\\frac{2h}{g}+ (\\frac{v*sin(\\theta)}{g})^2}$$"
   ]
  },
  {
   "cell_type": "code",
   "execution_count": 38,
   "metadata": {},
   "outputs": [
    {
     "data": {
      "text/latex": [
       "subexpression[2]: sqrt((2.0 * 50.0) / 9.81 + ((90.0 * sind(θ)) / 9.81) ^ {2.0})"
      ],
      "text/plain": [
       "subexpression[2]: sqrt((2.0 * 50.0) / 9.81 + ((90.0 * sind(θ)) / 9.81) ^ 2.0)"
      ]
     },
     "metadata": {},
     "output_type": "display_data"
    }
   ],
   "source": [
    "t2 = @NLexpression(model, sqrt(2 * h / g + (v * sind(θ) / g)^2))"
   ]
  },
  {
   "cell_type": "markdown",
   "metadata": {},
   "source": [
    "Thus total time will be: $$ t_{1} + t_{2}$$"
   ]
  },
  {
   "cell_type": "code",
   "execution_count": 39,
   "metadata": {},
   "outputs": [
    {
     "data": {
      "text/latex": [
       "subexpression[3]: subexpression_{1} + subexpression_{2}"
      ],
      "text/plain": [
       "subexpression[3]: subexpression[1] + subexpression[2]"
      ]
     },
     "metadata": {},
     "output_type": "display_data"
    }
   ],
   "source": [
    "total_time = @NLexpression(model, t1 + t2)"
   ]
  },
  {
   "cell_type": "code",
   "execution_count": 40,
   "metadata": {},
   "outputs": [
    {
     "data": {
      "text/latex": [
       "subexpression[4]: subexpression_{3} * 90.0 * cosd(θ)"
      ],
      "text/plain": [
       "subexpression[4]: subexpression[3] * 90.0 * cosd(θ)"
      ]
     },
     "metadata": {},
     "output_type": "display_data"
    }
   ],
   "source": [
    "total_range = @NLexpression(model, total_time * v * cosd(θ))"
   ]
  },
  {
   "cell_type": "code",
   "execution_count": 41,
   "metadata": {},
   "outputs": [],
   "source": [
    "@NLobjective(model, Max, total_range)"
   ]
  },
  {
   "cell_type": "code",
   "execution_count": 42,
   "metadata": {},
   "outputs": [
    {
     "name": "stdout",
     "output_type": "stream",
     "text": [
      "model = A JuMP Model\n",
      "Maximization problem with:\n",
      "Variable: 1\n",
      "Objective function type: Nonlinear\n",
      "`VariableRef`-in-`MathOptInterface.GreaterThan{Float64}`: 1 constraint\n",
      "`VariableRef`-in-`MathOptInterface.LessThan{Float64}`: 1 constraint\n",
      "Model mode: AUTOMATIC\n",
      "CachingOptimizer state: EMPTY_OPTIMIZER\n",
      "Solver name: Ipopt\n",
      "Names registered in the model: θ\n"
     ]
    },
    {
     "data": {
      "text/plain": [
       "A JuMP Model\n",
       "Maximization problem with:\n",
       "Variable: 1\n",
       "Objective function type: Nonlinear\n",
       "`VariableRef`-in-`MathOptInterface.GreaterThan{Float64}`: 1 constraint\n",
       "`VariableRef`-in-`MathOptInterface.LessThan{Float64}`: 1 constraint\n",
       "Model mode: AUTOMATIC\n",
       "CachingOptimizer state: EMPTY_OPTIMIZER\n",
       "Solver name: Ipopt\n",
       "Names registered in the model: θ"
      ]
     },
     "metadata": {},
     "output_type": "display_data"
    }
   ],
   "source": [
    "@show model"
   ]
  },
  {
   "cell_type": "code",
   "execution_count": 43,
   "metadata": {},
   "outputs": [
    {
     "name": "stdout",
     "output_type": "stream",
     "text": [
      "This is Ipopt version 3.14.13, running with linear solver MUMPS 5.6.1.\n",
      "\n",
      "Number of nonzeros in equality constraint Jacobian...:        0\n",
      "Number of nonzeros in inequality constraint Jacobian.:        0\n",
      "Number of nonzeros in Lagrangian Hessian.............:        1\n",
      "\n",
      "Total number of variables............................:        1\n",
      "                     variables with only lower bounds:        0\n",
      "                variables with lower and upper bounds:        1\n",
      "                     variables with only upper bounds:        0\n",
      "Total number of equality constraints.................:        0\n",
      "Total number of inequality constraints...............:        0\n",
      "        inequality constraints with only lower bounds:        0\n",
      "   inequality constraints with lower and upper bounds:        0\n",
      "        inequality constraints with only upper bounds:        0\n",
      "\n",
      "iter    objective    inf_pr   inf_du lg(mu)  ||d||  lg(rg) alpha_du alpha_pr  ls\n",
      "   0  2.8749203e+02 0.00e+00 1.44e+01  -1.0 0.00e+00    -  0.00e+00 0.00e+00   0\n",
      "   1  2.9105335e+02 0.00e+00 1.36e+01  -1.0 2.46e-01    -  6.36e-02 1.00e+00f  1\n",
      "   2  8.4789227e+02 0.00e+00 5.98e+00  -1.0 3.56e+01   0.0 9.79e-03 1.00e+00f  1\n",
      "   3  8.7423639e+02 0.00e+00 3.72e-01  -1.0 7.74e+00    -  1.00e+00 1.00e+00f  1\n",
      "   4  8.7425946e+02 0.00e+00 1.17e-04  -1.0 2.19e-01    -  1.00e+00 1.00e+00f  1\n",
      "   5  8.7425946e+02 0.00e+00 1.33e-09  -2.5 7.21e-04    -  1.00e+00 1.00e+00f  1\n",
      "   6  8.7425946e+02 0.00e+00 3.57e-13  -3.8 1.18e-05    -  1.00e+00 1.00e+00f  1\n",
      "   7  8.7425946e+02 0.00e+00 9.95e-16  -5.7 6.60e-07    -  1.00e+00 1.00e+00f  1\n",
      "   8  8.7425946e+02 0.00e+00 2.45e-15  -8.6 8.18e-09    -  1.00e+00 1.00e+00f  1\n",
      "\n",
      "Number of Iterations....: 8\n",
      "\n",
      "                                   (scaled)                 (unscaled)\n",
      "Objective...............:  -8.7425945913405087e+02    8.7425945913405087e+02\n",
      "Dual infeasibility......:   2.4455532738497097e-15    2.4455532738497097e-15\n",
      "Constraint violation....:   0.0000000000000000e+00    0.0000000000000000e+00\n",
      "Variable bound violation:   0.0000000000000000e+00    0.0000000000000000e+00\n",
      "Complementarity.........:   2.5059039712143006e-09    2.5059039712143006e-09\n",
      "Overall NLP error.......:   2.5059039712143006e-09    2.5059039712143006e-09\n",
      "\n",
      "\n",
      "Number of objective function evaluations             = 9\n",
      "Number of objective gradient evaluations             = 9\n",
      "Number of equality constraint evaluations            = 0\n",
      "Number of inequality constraint evaluations          = 0\n",
      "Number of equality constraint Jacobian evaluations   = 0\n",
      "Number of inequality constraint Jacobian evaluations = 0\n",
      "Number of Lagrangian Hessian evaluations             = 8\n",
      "Total seconds in IPOPT                               = 0.008\n",
      "\n",
      "EXIT: Optimal Solution Found.\n"
     ]
    }
   ],
   "source": [
    "optimize!(model)"
   ]
  },
  {
   "cell_type": "code",
   "execution_count": 44,
   "metadata": {},
   "outputs": [
    {
     "name": "stdout",
     "output_type": "stream",
     "text": [
      "value.(θ) = 43.363373916696226\n"
     ]
    },
    {
     "data": {
      "text/plain": [
       "43.363373916696226"
      ]
     },
     "metadata": {},
     "output_type": "display_data"
    }
   ],
   "source": [
    "@show value.(θ) # Gives out value of θ for which range is maximum."
   ]
  },
  {
   "cell_type": "code",
   "execution_count": 45,
   "metadata": {},
   "outputs": [
    {
     "name": "stdout",
     "output_type": "stream",
     "text": [
      "objective_value(model) = 874.2594591340509\n"
     ]
    },
    {
     "data": {
      "text/plain": [
       "874.2594591340509"
      ]
     },
     "metadata": {},
     "output_type": "display_data"
    }
   ],
   "source": [
    "@show objective_value(model) # Gives out maximum range."
   ]
  }
 ],
 "metadata": {
  "kernelspec": {
   "display_name": "Julia 1.9.2",
   "language": "julia",
   "name": "julia-1.9"
  },
  "language_info": {
   "file_extension": ".jl",
   "mimetype": "application/julia",
   "name": "julia",
   "version": "1.9.2"
  },
  "orig_nbformat": 4
 },
 "nbformat": 4,
 "nbformat_minor": 2
}
