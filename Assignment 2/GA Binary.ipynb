{
 "cells": [
  {
   "cell_type": "code",
   "execution_count": 3,
   "metadata": {},
   "outputs": [
    {
     "data": {
      "text/plain": [
       "2000"
      ]
     },
     "metadata": {},
     "output_type": "display_data"
    }
   ],
   "source": [
    "# GA binary\n",
    "upper_limit= 10\n",
    "lower_limit = -10\n",
    "precision=2#Upto Decimal Places\n",
    "no_of_points=(upper_limit-lower_limit)*10^(precision)"
   ]
  },
  {
   "cell_type": "code",
   "execution_count": 15,
   "metadata": {},
   "outputs": [
    {
     "data": {
      "text/plain": [
       "-8.203125"
      ]
     },
     "metadata": {},
     "output_type": "display_data"
    }
   ],
   "source": [
    "string_size = 11\n",
    "binary_string = join(rand([\"0\", \"1\"], string_size))\n",
    "decimal_number = parse(Int, binary_string, base=2)\n",
    "decoded_value = lower_limit + (upper_limit-lower_limit)*decimal_number/2^11"
   ]
  }
 ],
 "metadata": {
  "kernelspec": {
   "display_name": "Julia 1.9.3",
   "language": "julia",
   "name": "julia-1.9"
  },
  "language_info": {
   "file_extension": ".jl",
   "mimetype": "application/julia",
   "name": "julia",
   "version": "1.9.3"
  }
 },
 "nbformat": 4,
 "nbformat_minor": 2
}
