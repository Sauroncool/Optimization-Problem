{
 "cells": [
  {
   "cell_type": "code",
   "execution_count": 11,
   "metadata": {},
   "outputs": [
    {
     "data": {
      "text/plain": [
       "dice (generic function with 1 method)"
      ]
     },
     "metadata": {},
     "output_type": "display_data"
    }
   ],
   "source": [
    "dice(x) = (x[1] - 1)^2 + sum(i*(2 * x[i] ^ 2 - x[i - 1])^2 for i in 2:length(x))"
   ]
  },
  {
   "cell_type": "code",
   "execution_count": 14,
   "metadata": {},
   "outputs": [],
   "source": [
    "x = 0:0.1:10\n",
    "y = 0:0.1:10\n",
    "\n",
    "# Create a grid of (x, y) values\n",
    "X = [x_val for x_val in x, y_val in y]\n",
    "Y = [y_val for x_val in x, y_val in y]\n",
    "\n",
    "# Calculate the dice values for the grid\n",
    "Z = [dice([x_val, y_val]) for x_val in x, y_val in y]\n",
    "using Plots\n",
    "\n",
    "plot(\n",
    "    x, y, Z, st=:surface, legend=false, c=:viridis,\n",
    "    xlabel=\"X\", ylabel=\"Y\", zlabel=\"Dice(x, 2)\"\n",
    ")"
   ]
  },
  {
   "cell_type": "code",
   "execution_count": 2,
   "metadata": {},
   "outputs": [
    {
     "data": {
      "text/plain": [
       "20×3 Matrix{Int64}:\n",
       "  -1  10  -4\n",
       "  -5  -5   1\n",
       "  -6   7  -4\n",
       "   5   3  -9\n",
       "   1  -9  -5\n",
       "   7   2  -3\n",
       "   3   2   1\n",
       "   8   1  -7\n",
       "  -3   0  -4\n",
       "  -7  -8  -8\n",
       "  -6  -2   0\n",
       "   7  -1  -6\n",
       "  -8  -2   5\n",
       "   0   2  -2\n",
       "  -3   1  -3\n",
       "   7   9  -1\n",
       "   5   4  -6\n",
       "  -5  10   2\n",
       "  -3   9   3\n",
       " -10  -4   7"
      ]
     },
     "metadata": {},
     "output_type": "display_data"
    }
   ],
   "source": [
    "no_of_gen = 20\n",
    "dimension = 3\n",
    "mat = rand(-10:10, no_of_gen, dimension)"
   ]
  },
  {
   "cell_type": "code",
   "execution_count": 3,
   "metadata": {},
   "outputs": [
    {
     "data": {
      "text/plain": [
       "20-element Vector{Int64}:\n",
       " 82258\n",
       "  6233\n",
       " 23556\n",
       " 76197\n",
       " 62285\n",
       "   806\n",
       "    54\n",
       " 28348\n",
       "  3106\n",
       " 92002\n",
       "   453\n",
       " 16073\n",
       "  8705\n",
       "   237\n",
       "   933\n",
       " 48233\n",
       " 15346\n",
       " 84098\n",
       " 54709\n",
       " 34861"
      ]
     },
     "metadata": {},
     "output_type": "display_data"
    }
   ],
   "source": [
    "func_values = dice.(eachrow(mat))"
   ]
  },
  {
   "cell_type": "code",
   "execution_count": null,
   "metadata": {},
   "outputs": [],
   "source": [
    "func_val_max = 1 ./(func_values .+ 1) # In order to avoid dividing them by zero"
   ]
  }
 ],
 "metadata": {
  "kernelspec": {
   "display_name": "Julia 1.9.3",
   "language": "julia",
   "name": "julia-1.9"
  },
  "language_info": {
   "file_extension": ".jl",
   "mimetype": "application/julia",
   "name": "julia",
   "version": "1.9.3"
  }
 },
 "nbformat": 4,
 "nbformat_minor": 2
}
