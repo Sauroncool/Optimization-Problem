{
 "cells": [
  {
   "cell_type": "code",
   "execution_count": 37,
   "metadata": {},
   "outputs": [
    {
     "data": {
      "text/plain": [
       "dice (generic function with 1 method)"
      ]
     },
     "metadata": {},
     "output_type": "display_data"
    }
   ],
   "source": [
    "dice(x) = (x[1] - 1)^2 + sum(i*(2 * x[i] ^ 2 - x[i - 1])^2 for i in 2:length(x))"
   ]
  },
  {
   "cell_type": "code",
   "execution_count": 38,
   "metadata": {},
   "outputs": [],
   "source": [
    "# x = 0:0.1:10\n",
    "# y = 0:0.1:10\n",
    "\n",
    "# # Create a grid of (x, y) values\n",
    "# X = [x_val for x_val in x, y_val in y]\n",
    "# Y = [y_val for x_val in x, y_val in y]\n",
    "\n",
    "# # Calculate the dice values for the grid\n",
    "# Z = [dice([x_val, y_val]) for x_val in x, y_val in y]\n",
    "# using Plots\n",
    "\n",
    "# plot(\n",
    "#     x, y, Z, st=:surface, legend=false, c=:viridis,\n",
    "#     xlabel=\"X\", ylabel=\"Y\", zlabel=\"Dice(x, 2)\"\n",
    "# )"
   ]
  },
  {
   "cell_type": "code",
   "execution_count": 39,
   "metadata": {},
   "outputs": [
    {
     "data": {
      "text/plain": [
       "20×3 Matrix{Float64}:\n",
       " -4.6826     8.11075  -6.99974\n",
       "  9.3957    -6.58418   6.75901\n",
       "  1.05946   -0.12535  -8.85198\n",
       "  9.59188   -5.03735  -9.9064\n",
       "  0.872807   2.37262   8.25195\n",
       " -4.23067    1.337     8.50673\n",
       " -9.19641   -1.76239   0.135268\n",
       "  6.77242    2.19326  -8.782\n",
       "  7.06669   -7.89904  -9.07935\n",
       " -6.57521    6.14384  -7.70558\n",
       " -5.47373   -5.25739   9.77193\n",
       " -2.41677   -7.78275   2.21229\n",
       "  0.046626  -9.18075   7.87244\n",
       " -6.79002    5.10576   1.71728\n",
       " -8.7496     1.46197   2.39585\n",
       "  4.31109   -2.28857  -2.76363\n",
       " -8.45416   -6.26507   6.60888\n",
       "  6.04773    9.1521   -0.0347965\n",
       "  5.53755   -1.98976   9.20591\n",
       "  7.88447   -8.13715   8.49899"
      ]
     },
     "metadata": {},
     "output_type": "display_data"
    }
   ],
   "source": [
    "no_of_gen = 20\n",
    "dimension = 3\n",
    "lower_bound = -10.0\n",
    "upper_bound = 10.0\n",
    "chromosome = rand(Float64, no_of_gen, dimension) .* (upper_bound - lower_bound) .+ lower_bound"
   ]
  },
  {
   "cell_type": "code",
   "execution_count": 40,
   "metadata": {},
   "outputs": [
    {
     "name": "stdout",
     "output_type": "stream",
     "text": [
      "60597.78367103997\n"
     ]
    }
   ],
   "source": [
    "func_values = dice.(eachrow(chromosome))\n",
    "println(sum(func_values) / length(func_values))"
   ]
  },
  {
   "cell_type": "code",
   "execution_count": 41,
   "metadata": {},
   "outputs": [
    {
     "data": {
      "text/plain": [
       "20-element Vector{Float64}:\n",
       " 1.6287103121556946e-5\n",
       " 2.450472388451297e-5\n",
       " 1.3550127405385157e-5\n",
       " 7.997372574551822e-6\n",
       " 1.8539943543430683e-5\n",
       " 1.6172322510108074e-5\n",
       " 0.0016963007464223486\n",
       " 1.440679030583468e-5\n",
       " 8.525004861634204e-6\n",
       " 1.9390885944498853e-5\n",
       " 8.133144296469923e-6\n",
       " 3.177354251222032e-5\n",
       " 9.092916333087078e-6\n",
       " 0.00014268405937602308\n",
       " 0.0013579315126989325\n",
       " 0.0009867499455024123\n",
       " 2.4092278493934686e-5\n",
       " 1.907472686543858e-5\n",
       " 1.1330575911495701e-5\n",
       " 9.907594516239344e-6"
      ]
     },
     "metadata": {},
     "output_type": "display_data"
    }
   ],
   "source": [
    "fitness = 1 ./(func_values .+ 1) # In order to avoid dividing them by zero"
   ]
  },
  {
   "cell_type": "code",
   "execution_count": 42,
   "metadata": {},
   "outputs": [
    {
     "data": {
      "text/plain": [
       "20-element Vector{Float64}:\n",
       " 0.00367120565170776\n",
       " 0.00919470974859607\n",
       " 0.012248985511495204\n",
       " 0.014051638762683106\n",
       " 0.018230647455082117\n",
       " 0.021875980904329278\n",
       " 0.4042318142765264\n",
       " 0.4074791867281532\n",
       " 0.409400771296955\n",
       " 0.4137715872449945\n",
       " 0.4156048442142978\n",
       " 0.42276678136021356\n",
       " 0.4248163764038129\n",
       " 0.4569781746855805\n",
       " 0.7630636588165258\n",
       " 0.985482707171178\n",
       " 0.9909132437318746\n",
       " 0.9952127956258203\n",
       " 0.997766771861676\n",
       " 1.0"
      ]
     },
     "metadata": {},
     "output_type": "display_data"
    }
   ],
   "source": [
    "indi_prob = fitness ./ sum(fitness)\n",
    "cumul_prob = cumsum(indi_prob)"
   ]
  },
  {
   "cell_type": "code",
   "execution_count": 43,
   "metadata": {},
   "outputs": [
    {
     "data": {
      "text/plain": [
       "20-element Vector{Float64}:\n",
       " 0.7347618388900107\n",
       " 0.6478004946716386\n",
       " 0.0011190649921971607\n",
       " 0.5192663086450545\n",
       " 0.22150068977020976\n",
       " 0.5170482666052582\n",
       " 0.5926570708153803\n",
       " 0.11212341593768893\n",
       " 0.8234676608172142\n",
       " 0.6639152761233239\n",
       " 0.527834839880947\n",
       " 0.8542624527643009\n",
       " 0.8889186054375696\n",
       " 0.3614463542708377\n",
       " 0.9089823353572997\n",
       " 0.5119707777036939\n",
       " 0.07574660797434718\n",
       " 0.7767430480090828\n",
       " 0.6132730114090549\n",
       " 0.9068639968403536"
      ]
     },
     "metadata": {},
     "output_type": "display_data"
    }
   ],
   "source": [
    "roulette = rand(length(cumul_prob))"
   ]
  },
  {
   "cell_type": "code",
   "execution_count": 44,
   "metadata": {},
   "outputs": [
    {
     "data": {
      "text/plain": [
       "19-element Vector{Any}:\n",
       " [-8.74960130457183, 1.4619677549951486, 2.395850036750282]\n",
       " [-8.74960130457183, 1.4619677549951486, 2.395850036750282]\n",
       " [-8.74960130457183, 1.4619677549951486, 2.395850036750282]\n",
       " [-9.196408574509611, -1.7623943182380906, 0.13526838814211573]\n",
       " [-8.74960130457183, 1.4619677549951486, 2.395850036750282]\n",
       " [-8.74960130457183, 1.4619677549951486, 2.395850036750282]\n",
       " [-9.196408574509611, -1.7623943182380906, 0.13526838814211573]\n",
       " [4.311092597353294, -2.288570195435198, -2.7636349101905306]\n",
       " [-8.74960130457183, 1.4619677549951486, 2.395850036750282]\n",
       " [-8.74960130457183, 1.4619677549951486, 2.395850036750282]\n",
       " [4.311092597353294, -2.288570195435198, -2.7636349101905306]\n",
       " [4.311092597353294, -2.288570195435198, -2.7636349101905306]\n",
       " [-9.196408574509611, -1.7623943182380906, 0.13526838814211573]\n",
       " [4.311092597353294, -2.288570195435198, -2.7636349101905306]\n",
       " [-8.74960130457183, 1.4619677549951486, 2.395850036750282]\n",
       " [-9.196408574509611, -1.7623943182380906, 0.13526838814211573]\n",
       " [4.311092597353294, -2.288570195435198, -2.7636349101905306]\n",
       " [-8.74960130457183, 1.4619677549951486, 2.395850036750282]\n",
       " [4.311092597353294, -2.288570195435198, -2.7636349101905306]"
      ]
     },
     "metadata": {},
     "output_type": "display_data"
    }
   ],
   "source": [
    "new_chromo = []\n",
    "for i = 1:length(roulette)\n",
    "    for j = 1:length(roulette)-1\n",
    "        if roulette[i] > cumul_prob[j] && roulette[i] <= cumul_prob[j+1]\n",
    "            push!(new_chromo, chromosome[j+1, :])\n",
    "        end\n",
    "    end\n",
    "end\n",
    "new_chromo"
   ]
  },
  {
   "cell_type": "code",
   "execution_count": 45,
   "metadata": {},
   "outputs": [
    {
     "data": {
      "text/plain": [
       "19"
      ]
     },
     "metadata": {},
     "output_type": "display_data"
    }
   ],
   "source": [
    "length(new_chromo)"
   ]
  },
  {
   "cell_type": "code",
   "execution_count": 46,
   "metadata": {},
   "outputs": [
    {
     "data": {
      "text/plain": [
       "20×3 Matrix{Float64}:\n",
       " -8.7496    1.46197   2.39585\n",
       " -8.7496    1.46197   2.39585\n",
       " -8.7496    1.46197   2.39585\n",
       " -9.19641  -1.76239   0.135268\n",
       " -8.7496    1.46197   2.39585\n",
       " -8.7496    1.46197   2.39585\n",
       " -9.19641  -1.76239   0.135268\n",
       "  4.31109  -2.28857  -2.76363\n",
       " -8.7496    1.46197   2.39585\n",
       " -8.7496    1.46197   2.39585\n",
       "  4.31109  -2.28857  -2.76363\n",
       "  4.31109  -2.28857  -2.76363\n",
       " -9.19641  -1.76239   0.135268\n",
       "  4.31109  -2.28857  -2.76363\n",
       " -8.7496    1.46197   2.39585\n",
       " -9.19641  -1.76239   0.135268\n",
       "  4.31109  -2.28857  -2.76363\n",
       " -8.7496    1.46197   2.39585\n",
       "  4.31109  -2.28857  -2.76363\n",
       "  7.88447  -8.13715   8.49899"
      ]
     },
     "metadata": {},
     "output_type": "display_data"
    }
   ],
   "source": [
    "while length(new_chromo)!=no_of_gen\n",
    "    push!(new_chromo, chromosome[end, :])\n",
    "end\n",
    "chromosome = mapreduce(permutedims, vcat, new_chromo)"
   ]
  },
  {
   "cell_type": "code",
   "execution_count": 47,
   "metadata": {},
   "outputs": [
    {
     "data": {
      "text/plain": [
       "2-element Vector{Any}:\n",
       "  7\n",
       " 19"
      ]
     },
     "metadata": {},
     "output_type": "display_data"
    }
   ],
   "source": [
    "#Crossover\n",
    "crossover_rate = 0.3\n",
    "parent_index = []\n",
    "for i in 1:length(new_chromo)\n",
    "    crossover_rand = rand()\n",
    "    if crossover_rand <= crossover_rate\n",
    "        push!(parent_index, i) # Selecting parents\n",
    "    end\n",
    "end\n",
    "parent_index"
   ]
  },
  {
   "cell_type": "code",
   "execution_count": 48,
   "metadata": {},
   "outputs": [
    {
     "data": {
      "text/plain": [
       "20×3 Matrix{Float64}:\n",
       " -9.19641  -1.76239  -2.76363\n",
       "  4.31109  -1.76239   0.135268\n",
       " -8.7496    1.46197   2.39585\n",
       " -9.19641  -1.76239   0.135268\n",
       " -8.7496    1.46197   2.39585\n",
       " -8.7496    1.46197   2.39585\n",
       " -9.19641  -1.76239   0.135268\n",
       "  4.31109  -2.28857  -2.76363\n",
       " -8.7496    1.46197   2.39585\n",
       " -8.7496    1.46197   2.39585\n",
       "  4.31109  -2.28857  -2.76363\n",
       "  4.31109  -2.28857  -2.76363\n",
       " -9.19641  -1.76239   0.135268\n",
       "  4.31109  -2.28857  -2.76363\n",
       " -8.7496    1.46197   2.39585\n",
       " -9.19641  -1.76239   0.135268\n",
       "  4.31109  -2.28857  -2.76363\n",
       " -8.7496    1.46197   2.39585\n",
       "  4.31109  -2.28857  -2.76363\n",
       "  7.88447  -8.13715   8.49899"
      ]
     },
     "metadata": {},
     "output_type": "display_data"
    }
   ],
   "source": [
    "child = []\n",
    "if length(parent_index)>0\n",
    "    for i in 1:length(parent_index)\n",
    "        first_parent = chromosome[parent_index[i], :]\n",
    "        if length(parent_index)>1\n",
    "            second_parent = chromosome[rand((parent_index[parent_index.!=parent_index[i]])), :]\n",
    "        else\n",
    "            second_parent = first_parent\n",
    "        end\n",
    "        crossover_point = rand(1:length(chromosome[1, :])-1)\n",
    "        push!(child, [first_parent[1:crossover_point]; second_parent[crossover_point+1:end]])\n",
    "    end\n",
    "    for i in 1:length(parent_index)\n",
    "        chromosome[i, :] = child[i] # Replacing parents with children\n",
    "    end\n",
    "end\n",
    "chromosome"
   ]
  },
  {
   "cell_type": "code",
   "execution_count": 49,
   "metadata": {},
   "outputs": [
    {
     "data": {
      "text/plain": [
       "4-element Vector{Int64}:\n",
       " 11\n",
       " 40\n",
       " 17\n",
       " 25"
      ]
     },
     "metadata": {},
     "output_type": "display_data"
    }
   ],
   "source": [
    "# Mutation\n",
    "mutation_rate = 0.06 # 6%\n",
    "mutation_indices = rand(1:length(chromosome), round(Int, mutation_rate * length(chromosome)))"
   ]
  },
  {
   "cell_type": "code",
   "execution_count": 50,
   "metadata": {},
   "outputs": [
    {
     "data": {
      "text/plain": [
       "20×3 Matrix{Float64}:\n",
       " -9.19641  -1.76239  -2.76363\n",
       "  4.31109  -1.76239   0.135268\n",
       " -8.7496    1.46197   2.39585\n",
       " -9.19641  -1.76239   0.135268\n",
       " -8.7496    1.51762   2.39585\n",
       " -8.7496    1.46197   2.39585\n",
       " -9.19641  -1.76239   0.135268\n",
       "  4.31109  -2.28857  -2.76363\n",
       " -8.7496    1.46197   2.39585\n",
       " -8.7496    1.46197   2.39585\n",
       "  8.68785  -2.28857  -2.76363\n",
       "  4.31109  -2.28857  -2.76363\n",
       " -9.19641  -1.76239   0.135268\n",
       "  4.31109  -2.28857  -2.76363\n",
       " -8.7496    1.46197   2.39585\n",
       " -9.19641  -1.76239   0.135268\n",
       " -6.47441  -2.28857  -2.76363\n",
       " -8.7496    1.46197   2.39585\n",
       "  4.31109  -2.28857  -2.76363\n",
       "  7.88447  -6.03187   8.49899"
      ]
     },
     "metadata": {},
     "output_type": "display_data"
    }
   ],
   "source": [
    "for index in unique(mutation_indices)\n",
    "    chromosome[index] = rand(Float64) .* (upper_bound - lower_bound) .+ lower_bound\n",
    "end\n",
    "chromosome"
   ]
  },
  {
   "cell_type": "code",
   "execution_count": 51,
   "metadata": {},
   "outputs": [
    {
     "data": {
      "text/plain": [
       "27.899833586558128"
      ]
     },
     "metadata": {},
     "output_type": "display_data"
    }
   ],
   "source": [
    "minimum(dice.(eachrow(chromosome)))"
   ]
  },
  {
   "cell_type": "code",
   "execution_count": 52,
   "metadata": {},
   "outputs": [
    {
     "name": "stdout",
     "output_type": "stream",
     "text": [
      "4600.2891088585\n"
     ]
    }
   ],
   "source": [
    "func_values = dice.(eachrow(chromosome))\n",
    "println(sum(func_values) / length(func_values))"
   ]
  }
 ],
 "metadata": {
  "kernelspec": {
   "display_name": "Julia 1.9.3",
   "language": "julia",
   "name": "julia-1.9"
  },
  "language_info": {
   "file_extension": ".jl",
   "mimetype": "application/julia",
   "name": "julia",
   "version": "1.9.3"
  }
 },
 "nbformat": 4,
 "nbformat_minor": 2
}
