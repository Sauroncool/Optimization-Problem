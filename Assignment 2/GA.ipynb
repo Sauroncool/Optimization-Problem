{
 "cells": [
  {
   "cell_type": "code",
   "execution_count": 250,
   "metadata": {},
   "outputs": [
    {
     "data": {
      "text/plain": [
       "dice (generic function with 1 method)"
      ]
     },
     "metadata": {},
     "output_type": "display_data"
    }
   ],
   "source": [
    "dice(x) = (x[1] - 1)^2 + sum(i * (2 * x[i]^2 - x[i-1])^2 for i in 2:length(x))"
   ]
  },
  {
   "cell_type": "code",
   "execution_count": 251,
   "metadata": {},
   "outputs": [],
   "source": [
    "# x = 0:0.1:10\n",
    "# y = 0:0.1:10\n",
    "\n",
    "# # Create a grid of (x, y) values\n",
    "# X = [x_val for x_val in x, y_val in y]\n",
    "# Y = [y_val for x_val in x, y_val in y]\n",
    "\n",
    "# # Calculate the dice values for the grid\n",
    "# Z = [dice([x_val, y_val]) for x_val in x, y_val in y]\n",
    "# using Plots\n",
    "\n",
    "# plot(\n",
    "#     x, y, Z, st=:surface, legend=false, c=:viridis,\n",
    "#     xlabel=\"X\", ylabel=\"Y\", zlabel=\"Dice(x, 2)\"\n",
    "# )"
   ]
  },
  {
   "cell_type": "code",
   "execution_count": 252,
   "metadata": {},
   "outputs": [
    {
     "data": {
      "text/plain": [
       "20×3 Matrix{Int64}:\n",
       " -2    7  -4\n",
       " -4   -6  -3\n",
       "  1    6   9\n",
       " -1  -10  -4\n",
       "  4   -6   1\n",
       " -5   -9  10\n",
       "  2   -6   1\n",
       " -7    0   0\n",
       " 10   -7  -2\n",
       " -6    7  -1\n",
       "  3    2  -1\n",
       " -9   -3  -1\n",
       "  5    0  -1\n",
       "  5  -10  10\n",
       "  8   -7   8\n",
       " -1    7  -3\n",
       " -4   -8   6\n",
       "  2    6  -5\n",
       " -3    3   2\n",
       " -5   -1  -2"
      ]
     },
     "metadata": {},
     "output_type": "display_data"
    }
   ],
   "source": [
    "no_of_gen = 20\n",
    "dimension = 3\n",
    "chromosome = rand(-10:10, no_of_gen, dimension)"
   ]
  },
  {
   "cell_type": "code",
   "execution_count": 253,
   "metadata": {},
   "outputs": [
    {
     "data": {
      "text/plain": [
       "41044.7"
      ]
     },
     "metadata": {},
     "output_type": "display_data"
    }
   ],
   "source": [
    "func_values = dice.(eachrow(chromosome))\n",
    "sum(func_values)/length(func_values)"
   ]
  },
  {
   "cell_type": "code",
   "execution_count": 254,
   "metadata": {},
   "outputs": [
    {
     "data": {
      "text/plain": [
       "20-element Vector{Float64}:\n",
       " 4.569339730408956e-5\n",
       " 7.515406583496167e-5\n",
       " 1.2034997773525411e-5\n",
       " 1.1614536754201559e-5\n",
       " 0.00010582010582010582\n",
       " 5.35165740829935e-6\n",
       " 0.00010006003602161297\n",
       " 0.006134969325153374\n",
       " 6.155740227762388e-5\n",
       " 4.596221905593602e-5\n",
       " 0.01818181818181818\n",
       " 0.0006119951040391676\n",
       " 0.012658227848101266\n",
       " 4.799224445329635e-6\n",
       " 1.4099400775467043e-5\n",
       " 5.0075112669003505e-5\n",
       " 1.849317601804934e-5\n",
       " 6.406149903907751e-5\n",
       " 0.001026694045174538\n",
       " 0.0026455026455026454"
      ]
     },
     "metadata": {},
     "output_type": "display_data"
    }
   ],
   "source": [
    "fitness = 1 ./ (func_values .+ 1) # In order to avoid dividing them by zero"
   ]
  },
  {
   "cell_type": "code",
   "execution_count": 255,
   "metadata": {},
   "outputs": [
    {
     "data": {
      "text/plain": [
       "20-element Vector{Float64}:\n",
       " 0.0010912120834940704\n",
       " 0.0028859795904283654\n",
       " 0.0031733894958004003\n",
       " 0.003450758297380764\n",
       " 0.005977866916139255\n",
       " 0.006105670790992179\n",
       " 0.008495222166544284\n",
       " 0.15500550711910707\n",
       " 0.15647557030453446\n",
       " 0.15757320216771725\n",
       " 0.5917764102998577\n",
       " 0.6063915733642811\n",
       " 0.9086849461145055\n",
       " 0.9087995572402944\n",
       " 0.909136267518014\n",
       " 0.9103321201192793\n",
       " 0.9107737589188367\n",
       " 0.9123036228808654\n",
       " 0.9368222845310377\n",
       " 0.9999999999999999"
      ]
     },
     "metadata": {},
     "output_type": "display_data"
    }
   ],
   "source": [
    "indi_prob = fitness ./ sum(fitness)\n",
    "cumul_prob = cumsum(indi_prob)"
   ]
  },
  {
   "cell_type": "code",
   "execution_count": 256,
   "metadata": {},
   "outputs": [
    {
     "data": {
      "text/plain": [
       "20-element Vector{Float64}:\n",
       " 0.015709939223577662\n",
       " 0.5606336559033461\n",
       " 0.37024645520451394\n",
       " 0.4364110254977288\n",
       " 0.036114638092555995\n",
       " 0.25947026260955597\n",
       " 0.7111373183056834\n",
       " 0.6937350550659676\n",
       " 0.32679652318614905\n",
       " 0.08725856966562617\n",
       " 0.8860396805679966\n",
       " 0.7607350296707822\n",
       " 0.05451811162189635\n",
       " 0.8711446841384041\n",
       " 0.759252569378574\n",
       " 0.5877401500049991\n",
       " 0.6601423839549172\n",
       " 0.8142501110524555\n",
       " 0.24828892099791589\n",
       " 0.5741099876890126"
      ]
     },
     "metadata": {},
     "output_type": "display_data"
    }
   ],
   "source": [
    "roulette = rand(length(cumul_prob))"
   ]
  },
  {
   "cell_type": "code",
   "execution_count": 257,
   "metadata": {},
   "outputs": [
    {
     "data": {
      "text/plain": [
       "20×3 Matrix{Int64}:\n",
       " -7  0   0\n",
       "  3  2  -1\n",
       "  3  2  -1\n",
       "  3  2  -1\n",
       " -7  0   0\n",
       "  3  2  -1\n",
       "  5  0  -1\n",
       "  5  0  -1\n",
       "  3  2  -1\n",
       " -7  0   0\n",
       "  5  0  -1\n",
       "  5  0  -1\n",
       " -7  0   0\n",
       "  5  0  -1\n",
       "  5  0  -1\n",
       "  3  2  -1\n",
       "  5  0  -1\n",
       "  5  0  -1\n",
       "  3  2  -1\n",
       "  3  2  -1"
      ]
     },
     "metadata": {},
     "output_type": "display_data"
    }
   ],
   "source": [
    "new_chromo = []\n",
    "for i = 1:length(roulette)\n",
    "    for j = 1:length(roulette)-1\n",
    "        if roulette[i] > cumul_prob[j] && roulette[i] <= cumul_prob[j+1]\n",
    "            push!(new_chromo, chromosome[j+1, :])\n",
    "        end\n",
    "    end\n",
    "end\n",
    "chromosome = mapreduce(permutedims, vcat, new_chromo)\n",
    "#chromosome=hcat(new_chromo...)'"
   ]
  },
  {
   "cell_type": "markdown",
   "metadata": {},
   "source": [
    "## Crossover"
   ]
  },
  {
   "cell_type": "code",
   "execution_count": 258,
   "metadata": {},
   "outputs": [
    {
     "data": {
      "text/plain": [
       "2-element Vector{Any}:\n",
       "  5\n",
       " 12"
      ]
     },
     "metadata": {},
     "output_type": "display_data"
    }
   ],
   "source": [
    "crossover_rate = 0.3\n",
    "parent_index = []\n",
    "for i in 1:length(new_chromo)\n",
    "    crossover_rand = rand()\n",
    "    if crossover_rand<=crossover_rate\n",
    "        push!(parent_index,i)\n",
    "    end\n",
    "end\n",
    "parent_index"
   ]
  },
  {
   "cell_type": "code",
   "execution_count": 259,
   "metadata": {},
   "outputs": [
    {
     "data": {
      "text/plain": [
       "2-element Vector{Any}:\n",
       " [-7, 0, -1]\n",
       " [5, 0, 0]"
      ]
     },
     "metadata": {},
     "output_type": "display_data"
    }
   ],
   "source": [
    "child=[]\n",
    "for i in 1:length(parent_index)\n",
    "    first_parent=chromosome[parent_index[i],:]\n",
    "    second_parent = chromosome[rand((parent_index[parent_index .!= parent_index[i]])),:]\n",
    "    crossover_point=rand(1:length(chromosome[1,:]) - 1)\n",
    "    push!(child,[first_parent[1:crossover_point];second_parent[crossover_point+1:end]])\n",
    "end\n",
    "child"
   ]
  },
  {
   "cell_type": "code",
   "execution_count": 260,
   "metadata": {},
   "outputs": [
    {
     "data": {
      "text/plain": [
       "20×3 Matrix{Int64}:\n",
       " -7  0  -1\n",
       "  5  0   0\n",
       "  3  2  -1\n",
       "  3  2  -1\n",
       " -7  0   0\n",
       "  3  2  -1\n",
       "  5  0  -1\n",
       "  5  0  -1\n",
       "  3  2  -1\n",
       " -7  0   0\n",
       "  5  0  -1\n",
       "  5  0  -1\n",
       " -7  0   0\n",
       "  5  0  -1\n",
       "  5  0  -1\n",
       "  3  2  -1\n",
       "  5  0  -1\n",
       "  5  0  -1\n",
       "  3  2  -1\n",
       "  3  2  -1"
      ]
     },
     "metadata": {},
     "output_type": "display_data"
    }
   ],
   "source": [
    "for i in 1:length(parent_index)\n",
    "    chromosome[i,:]= child[i]\n",
    "end\n",
    "chromosome"
   ]
  },
  {
   "cell_type": "markdown",
   "metadata": {},
   "source": [
    "## Mutation"
   ]
  },
  {
   "cell_type": "code",
   "execution_count": 261,
   "metadata": {},
   "outputs": [
    {
     "data": {
      "text/plain": [
       "20×3 Matrix{Int64}:\n",
       " -7   0   -1\n",
       "  5   0    6\n",
       "  3   2   -1\n",
       "  3   2   -1\n",
       " -7   0    0\n",
       "  3   2   -1\n",
       "  5   0   -1\n",
       "  5   0   -1\n",
       "  3   2   -1\n",
       " -7   0    0\n",
       "  5   0   -1\n",
       "  5   0   -1\n",
       " -7   0    0\n",
       "  5   0   -1\n",
       "  5   0  -10\n",
       "  1   2   -1\n",
       "  5   0   -1\n",
       "  5  -3   -1\n",
       "  3   2   -1\n",
       "  3   2   -1"
      ]
     },
     "metadata": {},
     "output_type": "display_data"
    }
   ],
   "source": [
    "mutation_rate = 0.06 # 6%\n",
    "mutation_indices = rand(1:length(chromosome), round(Int, mutation_rate * length(chromosome)))\n",
    "\n",
    "for index in unique(mutation_indices)\n",
    "    chromosome[index] = rand(-10:10)\n",
    "end\n",
    "chromosome"
   ]
  },
  {
   "cell_type": "code",
   "execution_count": 262,
   "metadata": {},
   "outputs": [
    {
     "data": {
      "text/plain": [
       "6883.15"
      ]
     },
     "metadata": {},
     "output_type": "display_data"
    }
   ],
   "source": [
    "func_values = dice.(eachrow(chromosome))\n",
    "sum(func_values)/length(func_values)"
   ]
  }
 ],
 "metadata": {
  "kernelspec": {
   "display_name": "Julia 1.9.3",
   "language": "julia",
   "name": "julia-1.9"
  },
  "language_info": {
   "file_extension": ".jl",
   "mimetype": "application/julia",
   "name": "julia",
   "version": "1.9.3"
  }
 },
 "nbformat": 4,
 "nbformat_minor": 2
}
