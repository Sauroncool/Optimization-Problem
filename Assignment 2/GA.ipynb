{
 "cells": [
  {
   "cell_type": "code",
   "execution_count": 1,
   "metadata": {},
   "outputs": [
    {
     "data": {
      "text/plain": [
       "dice (generic function with 1 method)"
      ]
     },
     "metadata": {},
     "output_type": "display_data"
    }
   ],
   "source": [
    "dice(x) = (x[1] - 1)^2 + sum(i*(2 * x[i] ^ 2 - x[i - 1])^2 for i in 2:length(x))"
   ]
  },
  {
   "cell_type": "code",
   "execution_count": 2,
   "metadata": {},
   "outputs": [],
   "source": [
    "# x = 0:0.1:10\n",
    "# y = 0:0.1:10\n",
    "\n",
    "# # Create a grid of (x, y) values\n",
    "# X = [x_val for x_val in x, y_val in y]\n",
    "# Y = [y_val for x_val in x, y_val in y]\n",
    "\n",
    "# # Calculate the dice values for the grid\n",
    "# Z = [dice([x_val, y_val]) for x_val in x, y_val in y]\n",
    "# using Plots\n",
    "\n",
    "# plot(\n",
    "#     x, y, Z, st=:surface, legend=false, c=:viridis,\n",
    "#     xlabel=\"X\", ylabel=\"Y\", zlabel=\"Dice(x, 2)\"\n",
    "# )"
   ]
  },
  {
   "cell_type": "code",
   "execution_count": 3,
   "metadata": {},
   "outputs": [],
   "source": [
    "no_of_gen = 20\n",
    "dimension = 3\n",
    "mat = rand(-10:10, no_of_gen, dimension)"
   ]
  },
  {
   "cell_type": "code",
   "execution_count": null,
   "metadata": {},
   "outputs": [],
   "source": [
    "func_values = dice.(eachrow(mat))"
   ]
  },
  {
   "cell_type": "code",
   "execution_count": null,
   "metadata": {},
   "outputs": [],
   "source": [
    "func_val_max = 1 ./(func_values .+ 1) # In order to avoid dividing them by zero"
   ]
  }
 ],
 "metadata": {
  "kernelspec": {
   "display_name": "Julia 1.9.3",
   "language": "julia",
   "name": "julia-1.9"
  },
  "language_info": {
   "file_extension": ".jl",
   "mimetype": "application/julia",
   "name": "julia",
   "version": "1.9.3"
  }
 },
 "nbformat": 4,
 "nbformat_minor": 2
}
