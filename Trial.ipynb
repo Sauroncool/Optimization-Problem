{
 "cells": [
  {
   "cell_type": "code",
   "execution_count": 1,
   "metadata": {},
   "outputs": [],
   "source": [
    "using JuMP"
   ]
  },
  {
   "cell_type": "code",
   "execution_count": 2,
   "metadata": {},
   "outputs": [],
   "source": [
    "using CPLEX"
   ]
  },
  {
   "cell_type": "code",
   "execution_count": 3,
   "metadata": {},
   "outputs": [
    {
     "data": {
      "text/plain": [
       "A JuMP Model\n",
       "Feasibility problem with:\n",
       "Variables: 0\n",
       "Model mode: AUTOMATIC\n",
       "CachingOptimizer state: EMPTY_OPTIMIZER\n",
       "Solver name: CPLEX"
      ]
     },
     "metadata": {},
     "output_type": "display_data"
    }
   ],
   "source": [
    "model=Model(CPLEX.Optimizer)"
   ]
  },
  {
   "cell_type": "code",
   "execution_count": 4,
   "metadata": {},
   "outputs": [
    {
     "data": {
      "text/latex": [
       "$$ v1 $$"
      ],
      "text/plain": [
       "v1"
      ]
     },
     "metadata": {},
     "output_type": "display_data"
    }
   ],
   "source": [
    "@variable(model,v1>=0,Int)\n"
   ]
  },
  {
   "cell_type": "code",
   "execution_count": 5,
   "metadata": {},
   "outputs": [
    {
     "data": {
      "text/latex": [
       "$$ v2 $$"
      ],
      "text/plain": [
       "v2"
      ]
     },
     "metadata": {},
     "output_type": "display_data"
    }
   ],
   "source": [
    "\n",
    "@variable(model,v2>=0,Int)\n"
   ]
  },
  {
   "cell_type": "code",
   "execution_count": 6,
   "metadata": {},
   "outputs": [
    {
     "data": {
      "text/latex": [
       "$$ v3 $$"
      ],
      "text/plain": [
       "v3"
      ]
     },
     "metadata": {},
     "output_type": "display_data"
    }
   ],
   "source": [
    "\n",
    "@variable(model,v3>=0,Int)"
   ]
  },
  {
   "cell_type": "code",
   "execution_count": 7,
   "metadata": {},
   "outputs": [
    {
     "data": {
      "text/latex": [
       "$$ 60 v1 + 100 v2 + 80 v3 \\geq 2000 $$"
      ],
      "text/plain": [
       "60 v1 + 100 v2 + 80 v3 >= 2000"
      ]
     },
     "metadata": {},
     "output_type": "display_data"
    }
   ],
   "source": [
    "@constraint(model,60*v1+100*v2+80*v3 >=2000)\n"
   ]
  },
  {
   "cell_type": "code",
   "execution_count": 8,
   "metadata": {},
   "outputs": [
    {
     "data": {
      "text/latex": [
       "$$ v1 + 3 v2 + v3 \\leq 50 $$"
      ],
      "text/plain": [
       "v1 + 3 v2 + v3 <= 50"
      ]
     },
     "metadata": {},
     "output_type": "display_data"
    }
   ],
   "source": [
    "@constraint(model,v1+3*v2+v3 <=50)\n"
   ]
  },
  {
   "cell_type": "code",
   "execution_count": 9,
   "metadata": {},
   "outputs": [
    {
     "data": {
      "text/latex": [
       "$$ 5 v1 + 10 v2 + 8 v3 \\leq 1600 $$"
      ],
      "text/plain": [
       "5 v1 + 10 v2 + 8 v3 <= 1600"
      ]
     },
     "metadata": {},
     "output_type": "display_data"
    }
   ],
   "source": [
    "@constraint(model,5*v1+10*v2+8*v3 <=1600)"
   ]
  },
  {
   "cell_type": "code",
   "execution_count": 10,
   "metadata": {},
   "outputs": [
    {
     "data": {
      "text/latex": [
       "$$ 200 v1 + 350 v2 + 300 v3 $$"
      ],
      "text/plain": [
       "200 v1 + 350 v2 + 300 v3"
      ]
     },
     "metadata": {},
     "output_type": "display_data"
    }
   ],
   "source": [
    "@objective(model,Min,200*v1+350*v2+300*v3)"
   ]
  },
  {
   "cell_type": "code",
   "execution_count": 11,
   "metadata": {},
   "outputs": [
    {
     "name": "stdout",
     "output_type": "stream",
     "text": [
      "model = A JuMP Model\n",
      "Minimization problem with:\n",
      "Variables: 3\n",
      "Objective function type: AffExpr\n",
      "`AffExpr`-in-`MathOptInterface.GreaterThan{Float64}`: 1 constraint\n",
      "`AffExpr`-in-`MathOptInterface.LessThan{Float64}`: 2 constraints\n",
      "`VariableRef`-in-`MathOptInterface.GreaterThan{Float64}`: 3 constraints\n",
      "`VariableRef`-in-`MathOptInterface.Integer`: 3 constraints\n",
      "Model mode: AUTOMATIC\n",
      "CachingOptimizer state: EMPTY_OPTIMIZER\n",
      "Solver name: CPLEX\n",
      "Names registered in the model: v1, v2, v3\n"
     ]
    },
    {
     "data": {
      "text/plain": [
       "A JuMP Model\n",
       "Minimization problem with:\n",
       "Variables: 3\n",
       "Objective function type: AffExpr\n",
       "`AffExpr`-in-`MathOptInterface.GreaterThan{Float64}`: 1 constraint\n",
       "`AffExpr`-in-`MathOptInterface.LessThan{Float64}`: 2 constraints\n",
       "`VariableRef`-in-`MathOptInterface.GreaterThan{Float64}`: 3 constraints\n",
       "`VariableRef`-in-`MathOptInterface.Integer`: 3 constraints\n",
       "Model mode: AUTOMATIC\n",
       "CachingOptimizer state: EMPTY_OPTIMIZER\n",
       "Solver name: CPLEX\n",
       "Names registered in the model: v1, v2, v3"
      ]
     },
     "metadata": {},
     "output_type": "display_data"
    }
   ],
   "source": [
    "@show model"
   ]
  },
  {
   "cell_type": "code",
   "execution_count": 12,
   "metadata": {},
   "outputs": [
    {
     "name": "stdout",
     "output_type": "stream",
     "text": [
      "Version identifier: 22.1.1.0 | 2022-11-26 | 9160aff4d\r\n",
      "Found incumbent of value 6800.000000 after 0.00 sec. (0.00 ticks)\r\n",
      "Tried aggregator 1 time.\r\n",
      "MIP Presolve eliminated 1 rows and 0 columns.\r\n",
      "MIP Presolve modified 1 coefficients.\r\n",
      "Reduced MIP has 2 rows, 3 columns, and 6 nonzeros.\r\n",
      "Reduced MIP has 0 binaries, 3 generals, 0 SOSs, and 0 indicators.\r\n",
      "Presolve time = 0.02 sec. (0.00 ticks)\r\n",
      "Tried aggregator 1 time.\r\n",
      "Reduced MIP has 2 rows, 3 columns, and 6 nonzeros.\r\n",
      "Reduced MIP has 0 binaries, 3 generals, 0 SOSs, and 0 indicators.\r\n",
      "Presolve time = 0.00 sec. (0.00 ticks)\r\n",
      "MIP emphasis: balance optimality and feasibility.\r\n",
      "MIP search method: dynamic search.\r\n",
      "Parallel mode: deterministic, using up to 8 threads.\r\n",
      "Root relaxation solution time = 0.02 sec. (0.00 ticks)\r\n",
      "\r\n",
      "        Nodes                                         Cuts/\r\n",
      "   Node  Left     Objective  IInf  Best Integer    Best Bound    ItCnt     Gap\r\n",
      "\r\n",
      "*     0+    0                         6800.0000        0.0000           100.00%\r\n",
      "      0     0     6666.6667     1     6800.0000     6666.6667        1    1.96%\r\n",
      "*     0     0      integral     0     6700.0000    MIRcuts: 1        4    0.00%\r\n",
      "      0     0        cutoff           6700.0000     6700.0000        4    0.00%\r\n",
      "Elapsed time = 0.03 sec. (0.03 ticks, tree = 0.01 MB, solutions = 2)\r\n"
     ]
    }
   ],
   "source": [
    "optimize!(model)"
   ]
  },
  {
   "cell_type": "code",
   "execution_count": 13,
   "metadata": {},
   "outputs": [
    {
     "name": "stdout",
     "output_type": "stream",
     "text": [
      "value(v1) = 32.0\n",
      "value(v2) = -0.0\n",
      "value(v3) = 1.0\n"
     ]
    },
    {
     "data": {
      "text/plain": [
       "1.0"
      ]
     },
     "metadata": {},
     "output_type": "display_data"
    }
   ],
   "source": [
    "@show value(v1)\n",
    "@show value(v2)\n",
    "@show value(v3)"
   ]
  },
  {
   "cell_type": "code",
   "execution_count": 14,
   "metadata": {},
   "outputs": [
    {
     "data": {
      "text/plain": [
       "6700.0"
      ]
     },
     "metadata": {},
     "output_type": "display_data"
    },
    {
     "name": "stdout",
     "output_type": "stream",
     "text": [
      "objective_value(model) = 6700.0\n"
     ]
    }
   ],
   "source": [
    "@show objective_value(model)"
   ]
  }
 ],
 "metadata": {
  "kernelspec": {
   "display_name": "Julia 1.9.2",
   "language": "julia",
   "name": "julia-1.9"
  },
  "language_info": {
   "file_extension": ".jl",
   "mimetype": "application/julia",
   "name": "julia",
   "version": "1.9.2"
  },
  "orig_nbformat": 4
 },
 "nbformat": 4,
 "nbformat_minor": 2
}
